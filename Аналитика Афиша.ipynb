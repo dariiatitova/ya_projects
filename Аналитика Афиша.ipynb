{
 "cells": [
  {
   "cell_type": "markdown",
   "metadata": {},
   "source": [
    "## Аналитика в Афише\n",
    "\n",
    "### Оглавление\n",
    "\n",
    "#### Продукт:\n",
    "-Сколько людей пользуются в день, неделю, месяц?\n",
    "\n",
    "-Сколько сессий в день?\n",
    "\n",
    "-Сколько длится одна сессия?\n",
    "\n",
    "-Как часто люди возвращаются?\n",
    "\n",
    "#### Продажи:\n",
    "\n",
    "-Когда люди начинают покупать?\n",
    "\n",
    "-Сколько раз покупают за период?\n",
    "\n",
    "-Какой средний чек?\n",
    "\n",
    "-Сколько денег приносят? (LTV)\n",
    "\n",
    "#### Маркетинг:\n",
    "-Сколько денег потратили? Всего / на каждый источник / по времени\n",
    "\n",
    "-Сколько стоило привлечение одного покупателя из каждого источника?\n",
    "\n",
    "-На сколько окупились расходы? (ROI)\n",
    "\n",
    "#### Общий вывод"
   ]
  },
  {
   "cell_type": "code",
   "execution_count": 63,
   "metadata": {},
   "outputs": [],
   "source": [
    "import pandas as pd\n",
    "import numpy as np\n",
    "import seaborn as sns\n",
    "from matplotlib import pyplot as plt"
   ]
  },
  {
   "cell_type": "code",
   "execution_count": 65,
   "metadata": {},
   "outputs": [
    {
     "data": {
      "text/html": [
       "<div>\n",
       "<style scoped>\n",
       "    .dataframe tbody tr th:only-of-type {\n",
       "        vertical-align: middle;\n",
       "    }\n",
       "\n",
       "    .dataframe tbody tr th {\n",
       "        vertical-align: top;\n",
       "    }\n",
       "\n",
       "    .dataframe thead th {\n",
       "        text-align: right;\n",
       "    }\n",
       "</style>\n",
       "<table border=\"1\" class=\"dataframe\">\n",
       "  <thead>\n",
       "    <tr style=\"text-align: right;\">\n",
       "      <th></th>\n",
       "      <th>source_id</th>\n",
       "      <th>dt</th>\n",
       "      <th>costs</th>\n",
       "    </tr>\n",
       "  </thead>\n",
       "  <tbody>\n",
       "    <tr>\n",
       "      <td>0</td>\n",
       "      <td>1</td>\n",
       "      <td>2017-06-01</td>\n",
       "      <td>75.20</td>\n",
       "    </tr>\n",
       "    <tr>\n",
       "      <td>1</td>\n",
       "      <td>1</td>\n",
       "      <td>2017-06-02</td>\n",
       "      <td>62.25</td>\n",
       "    </tr>\n",
       "    <tr>\n",
       "      <td>2</td>\n",
       "      <td>1</td>\n",
       "      <td>2017-06-03</td>\n",
       "      <td>36.53</td>\n",
       "    </tr>\n",
       "  </tbody>\n",
       "</table>\n",
       "</div>"
      ],
      "text/plain": [
       "   source_id          dt  costs\n",
       "0          1  2017-06-01  75.20\n",
       "1          1  2017-06-02  62.25\n",
       "2          1  2017-06-03  36.53"
      ]
     },
     "execution_count": 65,
     "metadata": {},
     "output_type": "execute_result"
    }
   ],
   "source": [
    "costs.head(3)\n"
   ]
  },
  {
   "cell_type": "code",
   "execution_count": 66,
   "metadata": {},
   "outputs": [
    {
     "name": "stdout",
     "output_type": "stream",
     "text": [
      "<class 'pandas.core.frame.DataFrame'>\n",
      "RangeIndex: 2542 entries, 0 to 2541\n",
      "Data columns (total 3 columns):\n",
      "source_id    2542 non-null int64\n",
      "dt           2542 non-null object\n",
      "costs        2542 non-null float64\n",
      "dtypes: float64(1), int64(1), object(1)\n",
      "memory usage: 59.7+ KB\n"
     ]
    }
   ],
   "source": [
    "costs.info()"
   ]
  },
  {
   "cell_type": "code",
   "execution_count": 67,
   "metadata": {},
   "outputs": [],
   "source": [
    "#приведем данные к нужному формату\n",
    "\n",
    "costs['dt'] = pd.to_datetime(costs['dt'])"
   ]
  },
  {
   "cell_type": "code",
   "execution_count": 68,
   "metadata": {},
   "outputs": [
    {
     "data": {
      "text/html": [
       "<div>\n",
       "<style scoped>\n",
       "    .dataframe tbody tr th:only-of-type {\n",
       "        vertical-align: middle;\n",
       "    }\n",
       "\n",
       "    .dataframe tbody tr th {\n",
       "        vertical-align: top;\n",
       "    }\n",
       "\n",
       "    .dataframe thead th {\n",
       "        text-align: right;\n",
       "    }\n",
       "</style>\n",
       "<table border=\"1\" class=\"dataframe\">\n",
       "  <thead>\n",
       "    <tr style=\"text-align: right;\">\n",
       "      <th></th>\n",
       "      <th>Buy Ts</th>\n",
       "      <th>Revenue</th>\n",
       "      <th>Uid</th>\n",
       "    </tr>\n",
       "  </thead>\n",
       "  <tbody>\n",
       "    <tr>\n",
       "      <td>0</td>\n",
       "      <td>2017-06-01 00:10:00</td>\n",
       "      <td>17.00</td>\n",
       "      <td>10329302124590727494</td>\n",
       "    </tr>\n",
       "    <tr>\n",
       "      <td>1</td>\n",
       "      <td>2017-06-01 00:25:00</td>\n",
       "      <td>0.55</td>\n",
       "      <td>11627257723692907447</td>\n",
       "    </tr>\n",
       "    <tr>\n",
       "      <td>2</td>\n",
       "      <td>2017-06-01 00:27:00</td>\n",
       "      <td>0.37</td>\n",
       "      <td>17903680561304213844</td>\n",
       "    </tr>\n",
       "  </tbody>\n",
       "</table>\n",
       "</div>"
      ],
      "text/plain": [
       "                Buy Ts  Revenue                   Uid\n",
       "0  2017-06-01 00:10:00    17.00  10329302124590727494\n",
       "1  2017-06-01 00:25:00     0.55  11627257723692907447\n",
       "2  2017-06-01 00:27:00     0.37  17903680561304213844"
      ]
     },
     "execution_count": 68,
     "metadata": {},
     "output_type": "execute_result"
    }
   ],
   "source": [
    "orders_log.head(3)"
   ]
  },
  {
   "cell_type": "code",
   "execution_count": 69,
   "metadata": {},
   "outputs": [
    {
     "name": "stdout",
     "output_type": "stream",
     "text": [
      "<class 'pandas.core.frame.DataFrame'>\n",
      "RangeIndex: 50415 entries, 0 to 50414\n",
      "Data columns (total 3 columns):\n",
      "Buy Ts     50415 non-null object\n",
      "Revenue    50415 non-null float64\n",
      "Uid        50415 non-null uint64\n",
      "dtypes: float64(1), object(1), uint64(1)\n",
      "memory usage: 1.2+ MB\n"
     ]
    }
   ],
   "source": [
    "orders_log.info()"
   ]
  },
  {
   "cell_type": "code",
   "execution_count": 70,
   "metadata": {},
   "outputs": [],
   "source": [
    "#приведем данные к нужному формату и поменяем название столбца\n",
    "\n",
    "orders_log['Buy Ts'] = pd.to_datetime(orders_log['Buy Ts'])\n",
    "orders_log.rename(columns={'Buy Ts': 'buy_ts', 'Revenue': 'revenue', 'Uid': 'uid'}, inplace=True)"
   ]
  },
  {
   "cell_type": "code",
   "execution_count": 71,
   "metadata": {},
   "outputs": [
    {
     "data": {
      "text/html": [
       "<div>\n",
       "<style scoped>\n",
       "    .dataframe tbody tr th:only-of-type {\n",
       "        vertical-align: middle;\n",
       "    }\n",
       "\n",
       "    .dataframe tbody tr th {\n",
       "        vertical-align: top;\n",
       "    }\n",
       "\n",
       "    .dataframe thead th {\n",
       "        text-align: right;\n",
       "    }\n",
       "</style>\n",
       "<table border=\"1\" class=\"dataframe\">\n",
       "  <thead>\n",
       "    <tr style=\"text-align: right;\">\n",
       "      <th></th>\n",
       "      <th>Device</th>\n",
       "      <th>End Ts</th>\n",
       "      <th>Source Id</th>\n",
       "      <th>Start Ts</th>\n",
       "      <th>Uid</th>\n",
       "    </tr>\n",
       "  </thead>\n",
       "  <tbody>\n",
       "    <tr>\n",
       "      <td>0</td>\n",
       "      <td>touch</td>\n",
       "      <td>2017-12-20 17:38:00</td>\n",
       "      <td>4</td>\n",
       "      <td>2017-12-20 17:20:00</td>\n",
       "      <td>16879256277535980062</td>\n",
       "    </tr>\n",
       "    <tr>\n",
       "      <td>1</td>\n",
       "      <td>desktop</td>\n",
       "      <td>2018-02-19 17:21:00</td>\n",
       "      <td>2</td>\n",
       "      <td>2018-02-19 16:53:00</td>\n",
       "      <td>104060357244891740</td>\n",
       "    </tr>\n",
       "    <tr>\n",
       "      <td>2</td>\n",
       "      <td>touch</td>\n",
       "      <td>2017-07-01 01:54:00</td>\n",
       "      <td>5</td>\n",
       "      <td>2017-07-01 01:54:00</td>\n",
       "      <td>7459035603376831527</td>\n",
       "    </tr>\n",
       "  </tbody>\n",
       "</table>\n",
       "</div>"
      ],
      "text/plain": [
       "    Device               End Ts  Source Id             Start Ts  \\\n",
       "0    touch  2017-12-20 17:38:00          4  2017-12-20 17:20:00   \n",
       "1  desktop  2018-02-19 17:21:00          2  2018-02-19 16:53:00   \n",
       "2    touch  2017-07-01 01:54:00          5  2017-07-01 01:54:00   \n",
       "\n",
       "                    Uid  \n",
       "0  16879256277535980062  \n",
       "1    104060357244891740  \n",
       "2   7459035603376831527  "
      ]
     },
     "execution_count": 71,
     "metadata": {},
     "output_type": "execute_result"
    }
   ],
   "source": [
    "visits_log.head(3)"
   ]
  },
  {
   "cell_type": "code",
   "execution_count": 72,
   "metadata": {},
   "outputs": [
    {
     "name": "stdout",
     "output_type": "stream",
     "text": [
      "<class 'pandas.core.frame.DataFrame'>\n",
      "RangeIndex: 359400 entries, 0 to 359399\n",
      "Data columns (total 5 columns):\n",
      "Device       359400 non-null object\n",
      "End Ts       359400 non-null object\n",
      "Source Id    359400 non-null int64\n",
      "Start Ts     359400 non-null object\n",
      "Uid          359400 non-null uint64\n",
      "dtypes: int64(1), object(3), uint64(1)\n",
      "memory usage: 13.7+ MB\n"
     ]
    }
   ],
   "source": [
    "visits_log.info()"
   ]
  },
  {
   "cell_type": "code",
   "execution_count": 73,
   "metadata": {},
   "outputs": [],
   "source": [
    "#приведем данные к нужному формату и поменяем название столбца\n",
    "\n",
    "visits_log.rename(columns={'Start Ts': 'start_ts', 'Device': 'device', 'Uid': 'uid', 'End Ts': 'end_ts','Source Id':'source_id'}, inplace=True)\n",
    "\n",
    "visits_log['end_ts'] = pd.to_datetime(visits_log['end_ts'])\n",
    "visits_log['start_ts'] = pd.to_datetime(visits_log['start_ts'])"
   ]
  },
  {
   "cell_type": "markdown",
   "metadata": {},
   "source": [
    "Проверим данные на наличие дубликатов и у далим их, если они есть"
   ]
  },
  {
   "cell_type": "code",
   "execution_count": 74,
   "metadata": {
    "scrolled": true
   },
   "outputs": [
    {
     "data": {
      "text/plain": [
       "0"
      ]
     },
     "execution_count": 74,
     "metadata": {},
     "output_type": "execute_result"
    }
   ],
   "source": [
    "visits_log.duplicated().sum()"
   ]
  },
  {
   "cell_type": "code",
   "execution_count": 75,
   "metadata": {
    "scrolled": true
   },
   "outputs": [],
   "source": [
    "orders_log.duplicated().sum()\n",
    "orders_log = orders_log.drop_duplicates().reset_index(drop = True)"
   ]
  },
  {
   "cell_type": "code",
   "execution_count": 76,
   "metadata": {},
   "outputs": [
    {
     "data": {
      "text/plain": [
       "0"
      ]
     },
     "execution_count": 76,
     "metadata": {},
     "output_type": "execute_result"
    }
   ],
   "source": [
    "costs.duplicated().sum()"
   ]
  },
  {
   "cell_type": "markdown",
   "metadata": {},
   "source": [
    "Продукт"
   ]
  },
  {
   "cell_type": "markdown",
   "metadata": {},
   "source": [
    "Сколько людей пользуются в день, неделю, месяц?"
   ]
  },
  {
   "cell_type": "code",
   "execution_count": 77,
   "metadata": {},
   "outputs": [],
   "source": [
    "# выделим дни/недели и месяца\n",
    "\n",
    "visits_log['visit_date'] = visits_log['start_ts'].dt.date\n",
    "visits_log['visit_week'] = visits_log['start_ts'].dt.week\n",
    "visits_log['visit_month'] = visits_log['start_ts'].dt.month\n",
    "visits_log['visit_year']  = visits_log['start_ts'].dt.year"
   ]
  },
  {
   "cell_type": "code",
   "execution_count": 78,
   "metadata": {},
   "outputs": [
    {
     "data": {
      "text/html": [
       "<div>\n",
       "<style scoped>\n",
       "    .dataframe tbody tr th:only-of-type {\n",
       "        vertical-align: middle;\n",
       "    }\n",
       "\n",
       "    .dataframe tbody tr th {\n",
       "        vertical-align: top;\n",
       "    }\n",
       "\n",
       "    .dataframe thead th {\n",
       "        text-align: right;\n",
       "    }\n",
       "</style>\n",
       "<table border=\"1\" class=\"dataframe\">\n",
       "  <thead>\n",
       "    <tr style=\"text-align: right;\">\n",
       "      <th></th>\n",
       "      <th>device</th>\n",
       "      <th>end_ts</th>\n",
       "      <th>source_id</th>\n",
       "      <th>start_ts</th>\n",
       "      <th>uid</th>\n",
       "      <th>visit_date</th>\n",
       "      <th>visit_week</th>\n",
       "      <th>visit_month</th>\n",
       "      <th>visit_year</th>\n",
       "    </tr>\n",
       "  </thead>\n",
       "  <tbody>\n",
       "    <tr>\n",
       "      <td>0</td>\n",
       "      <td>touch</td>\n",
       "      <td>2017-12-20 17:38:00</td>\n",
       "      <td>4</td>\n",
       "      <td>2017-12-20 17:20:00</td>\n",
       "      <td>16879256277535980062</td>\n",
       "      <td>2017-12-20</td>\n",
       "      <td>51</td>\n",
       "      <td>12</td>\n",
       "      <td>2017</td>\n",
       "    </tr>\n",
       "    <tr>\n",
       "      <td>1</td>\n",
       "      <td>desktop</td>\n",
       "      <td>2018-02-19 17:21:00</td>\n",
       "      <td>2</td>\n",
       "      <td>2018-02-19 16:53:00</td>\n",
       "      <td>104060357244891740</td>\n",
       "      <td>2018-02-19</td>\n",
       "      <td>8</td>\n",
       "      <td>2</td>\n",
       "      <td>2018</td>\n",
       "    </tr>\n",
       "    <tr>\n",
       "      <td>2</td>\n",
       "      <td>touch</td>\n",
       "      <td>2017-07-01 01:54:00</td>\n",
       "      <td>5</td>\n",
       "      <td>2017-07-01 01:54:00</td>\n",
       "      <td>7459035603376831527</td>\n",
       "      <td>2017-07-01</td>\n",
       "      <td>26</td>\n",
       "      <td>7</td>\n",
       "      <td>2017</td>\n",
       "    </tr>\n",
       "    <tr>\n",
       "      <td>3</td>\n",
       "      <td>desktop</td>\n",
       "      <td>2018-05-20 11:23:00</td>\n",
       "      <td>9</td>\n",
       "      <td>2018-05-20 10:59:00</td>\n",
       "      <td>16174680259334210214</td>\n",
       "      <td>2018-05-20</td>\n",
       "      <td>20</td>\n",
       "      <td>5</td>\n",
       "      <td>2018</td>\n",
       "    </tr>\n",
       "    <tr>\n",
       "      <td>4</td>\n",
       "      <td>desktop</td>\n",
       "      <td>2017-12-27 14:06:00</td>\n",
       "      <td>3</td>\n",
       "      <td>2017-12-27 14:06:00</td>\n",
       "      <td>9969694820036681168</td>\n",
       "      <td>2017-12-27</td>\n",
       "      <td>52</td>\n",
       "      <td>12</td>\n",
       "      <td>2017</td>\n",
       "    </tr>\n",
       "    <tr>\n",
       "      <td>...</td>\n",
       "      <td>...</td>\n",
       "      <td>...</td>\n",
       "      <td>...</td>\n",
       "      <td>...</td>\n",
       "      <td>...</td>\n",
       "      <td>...</td>\n",
       "      <td>...</td>\n",
       "      <td>...</td>\n",
       "      <td>...</td>\n",
       "    </tr>\n",
       "    <tr>\n",
       "      <td>359395</td>\n",
       "      <td>desktop</td>\n",
       "      <td>2017-07-29 19:07:19</td>\n",
       "      <td>2</td>\n",
       "      <td>2017-07-29 19:07:00</td>\n",
       "      <td>18363291481961487539</td>\n",
       "      <td>2017-07-29</td>\n",
       "      <td>30</td>\n",
       "      <td>7</td>\n",
       "      <td>2017</td>\n",
       "    </tr>\n",
       "    <tr>\n",
       "      <td>359396</td>\n",
       "      <td>touch</td>\n",
       "      <td>2018-01-25 17:38:19</td>\n",
       "      <td>1</td>\n",
       "      <td>2018-01-25 17:38:00</td>\n",
       "      <td>18370831553019119586</td>\n",
       "      <td>2018-01-25</td>\n",
       "      <td>4</td>\n",
       "      <td>1</td>\n",
       "      <td>2018</td>\n",
       "    </tr>\n",
       "    <tr>\n",
       "      <td>359397</td>\n",
       "      <td>desktop</td>\n",
       "      <td>2018-03-03 10:12:19</td>\n",
       "      <td>4</td>\n",
       "      <td>2018-03-03 10:12:00</td>\n",
       "      <td>18387297585500748294</td>\n",
       "      <td>2018-03-03</td>\n",
       "      <td>9</td>\n",
       "      <td>3</td>\n",
       "      <td>2018</td>\n",
       "    </tr>\n",
       "    <tr>\n",
       "      <td>359398</td>\n",
       "      <td>desktop</td>\n",
       "      <td>2017-11-02 10:12:19</td>\n",
       "      <td>5</td>\n",
       "      <td>2017-11-02 10:12:00</td>\n",
       "      <td>18388616944624776485</td>\n",
       "      <td>2017-11-02</td>\n",
       "      <td>44</td>\n",
       "      <td>11</td>\n",
       "      <td>2017</td>\n",
       "    </tr>\n",
       "    <tr>\n",
       "      <td>359399</td>\n",
       "      <td>touch</td>\n",
       "      <td>2017-09-10 13:13:19</td>\n",
       "      <td>2</td>\n",
       "      <td>2017-09-10 13:13:00</td>\n",
       "      <td>18396128934054549559</td>\n",
       "      <td>2017-09-10</td>\n",
       "      <td>36</td>\n",
       "      <td>9</td>\n",
       "      <td>2017</td>\n",
       "    </tr>\n",
       "  </tbody>\n",
       "</table>\n",
       "<p>359400 rows × 9 columns</p>\n",
       "</div>"
      ],
      "text/plain": [
       "         device              end_ts  source_id            start_ts  \\\n",
       "0         touch 2017-12-20 17:38:00          4 2017-12-20 17:20:00   \n",
       "1       desktop 2018-02-19 17:21:00          2 2018-02-19 16:53:00   \n",
       "2         touch 2017-07-01 01:54:00          5 2017-07-01 01:54:00   \n",
       "3       desktop 2018-05-20 11:23:00          9 2018-05-20 10:59:00   \n",
       "4       desktop 2017-12-27 14:06:00          3 2017-12-27 14:06:00   \n",
       "...         ...                 ...        ...                 ...   \n",
       "359395  desktop 2017-07-29 19:07:19          2 2017-07-29 19:07:00   \n",
       "359396    touch 2018-01-25 17:38:19          1 2018-01-25 17:38:00   \n",
       "359397  desktop 2018-03-03 10:12:19          4 2018-03-03 10:12:00   \n",
       "359398  desktop 2017-11-02 10:12:19          5 2017-11-02 10:12:00   \n",
       "359399    touch 2017-09-10 13:13:19          2 2017-09-10 13:13:00   \n",
       "\n",
       "                         uid  visit_date  visit_week  visit_month  visit_year  \n",
       "0       16879256277535980062  2017-12-20          51           12        2017  \n",
       "1         104060357244891740  2018-02-19           8            2        2018  \n",
       "2        7459035603376831527  2017-07-01          26            7        2017  \n",
       "3       16174680259334210214  2018-05-20          20            5        2018  \n",
       "4        9969694820036681168  2017-12-27          52           12        2017  \n",
       "...                      ...         ...         ...          ...         ...  \n",
       "359395  18363291481961487539  2017-07-29          30            7        2017  \n",
       "359396  18370831553019119586  2018-01-25           4            1        2018  \n",
       "359397  18387297585500748294  2018-03-03           9            3        2018  \n",
       "359398  18388616944624776485  2017-11-02          44           11        2017  \n",
       "359399  18396128934054549559  2017-09-10          36            9        2017  \n",
       "\n",
       "[359400 rows x 9 columns]"
      ]
     },
     "execution_count": 78,
     "metadata": {},
     "output_type": "execute_result"
    }
   ],
   "source": [
    "visits_log"
   ]
  },
  {
   "cell_type": "code",
   "execution_count": 79,
   "metadata": {},
   "outputs": [],
   "source": [
    "#  Сгруппируем данные по уникальным пользователям и найдём среднее\n",
    "\n",
    "dau_total = visits_log.groupby('visit_date').agg({'uid': 'nunique'}).mean().round().astype('int')\n",
    "wau_total = visits_log.groupby(['visit_year', 'visit_week']).agg({'uid': 'nunique'}).mean().round().astype('int')\n",
    "mau_total = visits_log.groupby(['visit_year', 'visit_month']).agg({'uid': 'nunique'}).mean().round().astype('int')"
   ]
  },
  {
   "cell_type": "code",
   "execution_count": 80,
   "metadata": {},
   "outputs": [
    {
     "name": "stdout",
     "output_type": "stream",
     "text": [
      "В среднем приложением пользуется:\n",
      "Уникальных пользователей в день uid    908\n",
      "dtype: int64\n",
      "Уникальных пользователей в неделю uid    5716\n",
      "dtype: int64\n",
      "Уникальных пользователей в месяц uid    23228\n",
      "dtype: int64\n"
     ]
    }
   ],
   "source": [
    "print('В среднем приложением пользуется:')\n",
    "print('Уникальных пользователей в день', dau_total)\n",
    "print('Уникальных пользователей в неделю', wau_total)\n",
    "print('Уникальных пользователей в месяц',mau_total,)"
   ]
  },
  {
   "cell_type": "code",
   "execution_count": 81,
   "metadata": {},
   "outputs": [
    {
     "data": {
      "text/plain": [
       "device\n",
       "desktop    659.0\n",
       "touch      253.0\n",
       "Name: uid, dtype: float64"
      ]
     },
     "execution_count": 81,
     "metadata": {},
     "output_type": "execute_result"
    }
   ],
   "source": [
    "dau_device =visits_log.groupby(['visit_date', 'device']).agg({'uid': 'nunique'}).reset_index()\n",
    "dau_device.groupby('device')['uid'].mean().round()"
   ]
  },
  {
   "cell_type": "code",
   "execution_count": 82,
   "metadata": {},
   "outputs": [
    {
     "data": {
      "text/plain": [
       "device\n",
       "desktop    4130.0\n",
       "touch      1635.0\n",
       "Name: uid, dtype: float64"
      ]
     },
     "execution_count": 82,
     "metadata": {},
     "output_type": "execute_result"
    }
   ],
   "source": [
    "wau_device =visits_log.groupby(['visit_year','visit_week','device']).agg({'uid': 'nunique'}).reset_index()\n",
    "wau_device.groupby('device')['uid'].mean().round()"
   ]
  },
  {
   "cell_type": "code",
   "execution_count": 83,
   "metadata": {},
   "outputs": [
    {
     "data": {
      "text/plain": [
       "device\n",
       "desktop    16725.0\n",
       "touch       6826.0\n",
       "Name: uid, dtype: float64"
      ]
     },
     "execution_count": 83,
     "metadata": {},
     "output_type": "execute_result"
    }
   ],
   "source": [
    "mau_device =visits_log.groupby(['visit_year', 'visit_month','device']).agg({'uid': 'nunique'}).reset_index()\n",
    "mau_device.groupby('device')['uid'].mean().round()"
   ]
  },
  {
   "cell_type": "markdown",
   "metadata": {},
   "source": [
    "После анализа видим, что в среднем приложением пользуются 23 228 уникальных пользователей в месяц,  5 716 пользователей в недеолю и 908 в день. В разбивке по устройствам, с которых заходят на сайт можно с уверенностью сказать что в основном пользователям удобней заходить с компьютера / ноутбука. "
   ]
  },
  {
   "cell_type": "markdown",
   "metadata": {},
   "source": [
    "Сколько сессий в день?"
   ]
  },
  {
   "cell_type": "code",
   "execution_count": 84,
   "metadata": {},
   "outputs": [],
   "source": [
    "session_per_user = visits_log.groupby(['visit_date', 'device']).agg({'uid': ['count', 'nunique']}).reset_index()\n",
    "session_per_user.columns = ['visit_date', 'device', 'session_count', 'user_count']\n",
    "session_per_user\n",
    "\n",
    "session_desktop = session_per_user.loc[session_per_user['device'] =='desktop']\n",
    "# session_per_user ['session_per_user'] = session_per_user['n_sessions'] / session_per_user['n_users']"
   ]
  },
  {
   "cell_type": "code",
   "execution_count": 85,
   "metadata": {},
   "outputs": [
    {
     "name": "stderr",
     "output_type": "stream",
     "text": [
      "/opt/conda/lib/python3.7/site-packages/ipykernel_launcher.py:1: SettingWithCopyWarning: \n",
      "A value is trying to be set on a copy of a slice from a DataFrame.\n",
      "Try using .loc[row_indexer,col_indexer] = value instead\n",
      "\n",
      "See the caveats in the documentation: http://pandas.pydata.org/pandas-docs/stable/user_guide/indexing.html#returning-a-view-versus-a-copy\n",
      "  \"\"\"Entry point for launching an IPython kernel.\n"
     ]
    },
    {
     "data": {
      "text/plain": [
       "1.09"
      ]
     },
     "execution_count": 85,
     "metadata": {},
     "output_type": "execute_result"
    }
   ],
   "source": [
    "session_desktop['session_per_user'] = session_desktop['session_count'] / session_desktop['user_count']\n",
    "session_desktop['session_per_user'].mean().round(2)"
   ]
  },
  {
   "cell_type": "code",
   "execution_count": 86,
   "metadata": {},
   "outputs": [
    {
     "name": "stderr",
     "output_type": "stream",
     "text": [
      "/opt/conda/lib/python3.7/site-packages/ipykernel_launcher.py:2: SettingWithCopyWarning: \n",
      "A value is trying to be set on a copy of a slice from a DataFrame.\n",
      "Try using .loc[row_indexer,col_indexer] = value instead\n",
      "\n",
      "See the caveats in the documentation: http://pandas.pydata.org/pandas-docs/stable/user_guide/indexing.html#returning-a-view-versus-a-copy\n",
      "  \n"
     ]
    },
    {
     "data": {
      "text/plain": [
       "1.05"
      ]
     },
     "execution_count": 86,
     "metadata": {},
     "output_type": "execute_result"
    }
   ],
   "source": [
    "session_touch = session_per_user.loc[session_per_user['device'] =='touch']\n",
    "session_touch['session_per_user'] = session_touch['session_count'] / session_touch['user_count']\n",
    "session_touch['session_per_user'].mean().round(2)"
   ]
  },
  {
   "cell_type": "code",
   "execution_count": 87,
   "metadata": {},
   "outputs": [
    {
     "data": {
      "text/plain": [
       "1.05"
      ]
     },
     "execution_count": 87,
     "metadata": {},
     "output_type": "execute_result"
    }
   ],
   "source": [
    "session_touch['session_per_user'].mean().round(2)"
   ]
  },
  {
   "cell_type": "markdown",
   "metadata": {},
   "source": [
    "В среднем количество пользовательских сессий в день одинаково, как с компьютера так и с телефона"
   ]
  },
  {
   "cell_type": "markdown",
   "metadata": {},
   "source": [
    "Сколько длится одна сессия?"
   ]
  },
  {
   "cell_type": "code",
   "execution_count": 88,
   "metadata": {},
   "outputs": [],
   "source": [
    "visits_log['start_ts'] = pd.to_datetime(visits_log['start_ts'], format ='%Y-%m-%d %H:%M')\n",
    "visits_log['end_ts'] = pd.to_datetime(visits_log['end_ts'], format ='%Y-%m-%d %H:%M')"
   ]
  },
  {
   "cell_type": "code",
   "execution_count": 89,
   "metadata": {},
   "outputs": [
    {
     "data": {
      "image/png": "[encoded data removed]",
      "text/plain": [
       "<Figure size 576x432 with 1 Axes>"
      ]
     },
     "metadata": {
      "needs_background": "light"
     },
     "output_type": "display_data"
    }
   ],
   "source": [
    "# посчитаем среднюю продолжительность сессии и вычислим значение по среднему значению и по моде\n",
    "visits_log['session_duration_sec'] = (visits_log['end_ts'] - visits_log['start_ts']).dt.seconds\n",
    "visits_log['session_duration_sec'].hist(figsize=(8,6),bins=100, range=(0,5000), grid=True);"
   ]
  },
  {
   "cell_type": "code",
   "execution_count": 90,
   "metadata": {},
   "outputs": [
    {
     "name": "stdout",
     "output_type": "stream",
     "text": [
      "Средняя продолжительность сессии: 643.51\n",
      "Значени по моде: 0    60\n",
      "dtype: int64\n"
     ]
    }
   ],
   "source": [
    "print('Средняя продолжительность сессии:', visits_log['session_duration_sec'].mean().round(2))\n",
    "print('Значени по моде:', visits_log['session_duration_sec'].mode())"
   ]
  },
  {
   "cell_type": "code",
   "execution_count": 91,
   "metadata": {},
   "outputs": [],
   "source": [
    "desktop_session_mean = visits_log.query('device == \"desktop\"')['session_duration_sec'].mean()\n",
    "desktop_session_mode = visits_log.query('device == \"desktop\"')['session_duration_sec'].mode()"
   ]
  },
  {
   "cell_type": "code",
   "execution_count": 92,
   "metadata": {},
   "outputs": [
    {
     "data": {
      "text/plain": [
       "703.95"
      ]
     },
     "execution_count": 92,
     "metadata": {},
     "output_type": "execute_result"
    }
   ],
   "source": [
    "# найдем среднюю продолжительность сессий с компьютера\n",
    "desktop_session_mean.round(2)"
   ]
  },
  {
   "cell_type": "code",
   "execution_count": 93,
   "metadata": {},
   "outputs": [
    {
     "data": {
      "text/plain": [
       "0    60\n",
       "dtype: int64"
      ]
     },
     "execution_count": 93,
     "metadata": {},
     "output_type": "execute_result"
    }
   ],
   "source": [
    "# найдем значение по моде сессий с компьютера\n",
    "desktop_session_mode"
   ]
  },
  {
   "cell_type": "code",
   "execution_count": 94,
   "metadata": {},
   "outputs": [],
   "source": [
    "touch_session_mean = visits_log.query('device == \"touch\"')['session_duration_sec'].mean()\n",
    "touch_session_mode = visits_log.query('device == \"touch\"')['session_duration_sec'].mode()"
   ]
  },
  {
   "cell_type": "code",
   "execution_count": 95,
   "metadata": {},
   "outputs": [
    {
     "data": {
      "text/plain": [
       "479.62"
      ]
     },
     "execution_count": 95,
     "metadata": {},
     "output_type": "execute_result"
    }
   ],
   "source": [
    "touch_session_mean.round(2)"
   ]
  },
  {
   "cell_type": "code",
   "execution_count": 96,
   "metadata": {},
   "outputs": [
    {
     "data": {
      "text/plain": [
       "0    60\n",
       "dtype: int64"
      ]
     },
     "execution_count": 96,
     "metadata": {},
     "output_type": "execute_result"
    }
   ],
   "source": [
    "touch_session_mode"
   ]
  },
  {
   "cell_type": "markdown",
   "metadata": {},
   "source": [
    "Средняя продолжительность сессии составляет 643 секунды. Это значение включает в себя в том числе и выдающиеся значения, поэтому для более корректного представления найдем среднее значение по моде, которое равно 60 секундам. \n",
    "В разбивке по устройствам средняя продолжительность сессии у тех кто заходит с помощью компьютера больше, но значения по моде у обоих устройств одинаковое. \n",
    "Отсюда можем сделать вывод, что сессия продолжительностью 60 секунд является самой часто встречающейся у пользователей"
   ]
  },
  {
   "cell_type": "markdown",
   "metadata": {},
   "source": [
    "Как часто люди возвращаются?"
   ]
  },
  {
   "cell_type": "code",
   "execution_count": 97,
   "metadata": {},
   "outputs": [],
   "source": [
    "# определим месяц, когда пользователь впервые воспользовался приложением \n",
    "\n",
    "first_active_month = visits_log.groupby(['uid'])['start_ts'].min()\n",
    "first_active_month.name = 'first_visit_month'\n",
    "visits_log = visits_log.join(first_active_month, on='uid')\n",
    "\n",
    "visits_log['first_visit_month'] = visits_log['first_visit_month'].astype('datetime64[M]')"
   ]
  },
  {
   "cell_type": "code",
   "execution_count": 98,
   "metadata": {},
   "outputs": [],
   "source": [
    "# Теперь для каждой строки датафрейма можно рассчитать lifetime пользователя в рамках когорты\n",
    "\n",
    "visits_log ['cohort_lifetime'] = visits_log['start_ts'] - visits_log['first_visit_month']\n",
    "visits_log['cohort_lifetime'] = (visits_log['cohort_lifetime'] / np.timedelta64(1,'M')).astype('int')"
   ]
  },
  {
   "cell_type": "code",
   "execution_count": 99,
   "metadata": {},
   "outputs": [],
   "source": [
    "# Сгруппируем данные по когорте и lifetime. Посчитаем для каждой когорты количество активных пользователей\n",
    "\n",
    "cohorts = visits_log.groupby(['first_visit_month', 'cohort_lifetime']).agg({'uid': 'nunique'}).reset_index()"
   ]
  },
  {
   "cell_type": "code",
   "execution_count": 100,
   "metadata": {},
   "outputs": [],
   "source": [
    "# Найдём исходное количество пользователей в когорте\n",
    "\n",
    "initial_users = cohorts[cohorts['cohort_lifetime'] == 0][['first_visit_month', 'uid']]\n",
    "initial_users = initial_users.rename(columns={'uid':'cohort_users'})"
   ]
  },
  {
   "cell_type": "code",
   "execution_count": 101,
   "metadata": {},
   "outputs": [],
   "source": [
    "# Объединим данные по когортам с исходным количеством пользователей в когорте\n",
    "cohorts = cohorts.merge(initial_users,on='first_visit_month')"
   ]
  },
  {
   "cell_type": "code",
   "execution_count": 102,
   "metadata": {},
   "outputs": [],
   "source": [
    "# рассчитаем Retention Rate\n",
    "cohorts['retention'] = cohorts['uid']/cohorts['cohort_users']"
   ]
  },
  {
   "cell_type": "code",
   "execution_count": 103,
   "metadata": {},
   "outputs": [
    {
     "data": {
      "image/png": "[encoded data removed]",
      "text/plain": [
       "<Figure size 936x648 with 2 Axes>"
      ]
     },
     "metadata": {
      "needs_background": "light"
     },
     "output_type": "display_data"
    }
   ],
   "source": [
    "# Построим сводную таблицу и создадим тепловую карту\n",
    "\n",
    "retention_cohorts = cohorts.pivot_table(index='first_visit_month', columns='cohort_lifetime', values='retention', aggfunc='sum')\n",
    "plt.figure(figsize=(13, 9))\n",
    "plt.title('Как часто люди возвращаются')\n",
    "sns.heatmap(retention_cohorts, annot=True, fmt='.1%', linewidths=1, linecolor='gray');"
   ]
  },
  {
   "cell_type": "markdown",
   "metadata": {},
   "source": [
    "Вывод: по тепловой карте, видим что процент вернувшихся людей падает после первого месяца использования приложения, но в последющие месяца остается примерно на таком же уровне. Из чего мы можем сделать вывод, что большая часть пользователей перестают использование приложения после первого месяца, те пользователи которые остались активными еще на 3-4 месяца, в зависимости от когорты. Процент вернувшихся людей падает до 1-2% в большинстве когорт к последнему месяцу. "
   ]
  },
  {
   "cell_type": "markdown",
   "metadata": {},
   "source": [
    "Общий вывод по разделу: По итогам раздела определили количество пользователей которые пользуются приложением в день / неделю и месяц. Срелнее число сессий равно 1,28 и самое часто значение по моде продолжительности сессий составлчет 60 секунд. Количество вернувшихся пользователей сокращается после первого месяца, но потом в рамках когорт остаются примерно на том же уровне. "
   ]
  },
  {
   "cell_type": "markdown",
   "metadata": {},
   "source": [
    "Продажи"
   ]
  },
  {
   "cell_type": "markdown",
   "metadata": {},
   "source": [
    "Когда люди начинают покупать"
   ]
  },
  {
   "cell_type": "code",
   "execution_count": 104,
   "metadata": {},
   "outputs": [],
   "source": [
    "# Переведем данные к нужному формату и по каждому пользователю выделим месяц первой покупки\n",
    "\n",
    "orders_log['buy_ts'] = pd.to_datetime(orders_log['buy_ts'])\n",
    "first_order = orders_log.groupby(['uid'])['buy_ts'].min()\n",
    "first_order.name = 'first_order_month'"
   ]
  },
  {
   "cell_type": "code",
   "execution_count": 105,
   "metadata": {},
   "outputs": [],
   "source": [
    "visits_log = visits_log.join(first_order, on='uid')"
   ]
  },
  {
   "cell_type": "code",
   "execution_count": 106,
   "metadata": {},
   "outputs": [],
   "source": [
    "visits_log['first_order_month'] = visits_log['first_order_month'].astype('datetime64[M]')"
   ]
  },
  {
   "cell_type": "code",
   "execution_count": 107,
   "metadata": {},
   "outputs": [
    {
     "data": {
      "text/html": [
       "<div>\n",
       "<style scoped>\n",
       "    .dataframe tbody tr th:only-of-type {\n",
       "        vertical-align: middle;\n",
       "    }\n",
       "\n",
       "    .dataframe tbody tr th {\n",
       "        vertical-align: top;\n",
       "    }\n",
       "\n",
       "    .dataframe thead th {\n",
       "        text-align: right;\n",
       "    }\n",
       "</style>\n",
       "<table border=\"1\" class=\"dataframe\">\n",
       "  <thead>\n",
       "    <tr style=\"text-align: right;\">\n",
       "      <th>first_order_month</th>\n",
       "      <th>2017-06-01</th>\n",
       "      <th>2017-07-01</th>\n",
       "      <th>2017-08-01</th>\n",
       "      <th>2017-09-01</th>\n",
       "      <th>2017-10-01</th>\n",
       "      <th>2017-11-01</th>\n",
       "      <th>2017-12-01</th>\n",
       "      <th>2018-01-01</th>\n",
       "      <th>2018-02-01</th>\n",
       "      <th>2018-03-01</th>\n",
       "      <th>2018-04-01</th>\n",
       "      <th>2018-05-01</th>\n",
       "      <th>2018-06-01</th>\n",
       "    </tr>\n",
       "    <tr>\n",
       "      <th>first_visit_month</th>\n",
       "      <th></th>\n",
       "      <th></th>\n",
       "      <th></th>\n",
       "      <th></th>\n",
       "      <th></th>\n",
       "      <th></th>\n",
       "      <th></th>\n",
       "      <th></th>\n",
       "      <th></th>\n",
       "      <th></th>\n",
       "      <th></th>\n",
       "      <th></th>\n",
       "      <th></th>\n",
       "    </tr>\n",
       "  </thead>\n",
       "  <tbody>\n",
       "    <tr>\n",
       "      <td>2017-06-01</td>\n",
       "      <td>2023</td>\n",
       "      <td>170</td>\n",
       "      <td>67</td>\n",
       "      <td>107</td>\n",
       "      <td>119</td>\n",
       "      <td>92</td>\n",
       "      <td>78</td>\n",
       "      <td>59</td>\n",
       "      <td>64</td>\n",
       "      <td>64</td>\n",
       "      <td>26</td>\n",
       "      <td>54.0</td>\n",
       "      <td></td>\n",
       "    </tr>\n",
       "    <tr>\n",
       "      <td>2017-07-01</td>\n",
       "      <td></td>\n",
       "      <td>1753</td>\n",
       "      <td>95</td>\n",
       "      <td>99</td>\n",
       "      <td>100</td>\n",
       "      <td>89</td>\n",
       "      <td>77</td>\n",
       "      <td>67</td>\n",
       "      <td>62</td>\n",
       "      <td>50</td>\n",
       "      <td>33</td>\n",
       "      <td>33.0</td>\n",
       "      <td></td>\n",
       "    </tr>\n",
       "    <tr>\n",
       "      <td>2017-08-01</td>\n",
       "      <td></td>\n",
       "      <td></td>\n",
       "      <td>1208</td>\n",
       "      <td>118</td>\n",
       "      <td>92</td>\n",
       "      <td>73</td>\n",
       "      <td>65</td>\n",
       "      <td>38</td>\n",
       "      <td>39</td>\n",
       "      <td>38</td>\n",
       "      <td>25</td>\n",
       "      <td>25.0</td>\n",
       "      <td></td>\n",
       "    </tr>\n",
       "    <tr>\n",
       "      <td>2017-09-01</td>\n",
       "      <td></td>\n",
       "      <td></td>\n",
       "      <td></td>\n",
       "      <td>2257</td>\n",
       "      <td>268</td>\n",
       "      <td>143</td>\n",
       "      <td>102</td>\n",
       "      <td>59</td>\n",
       "      <td>76</td>\n",
       "      <td>71</td>\n",
       "      <td>40</td>\n",
       "      <td>42.0</td>\n",
       "      <td></td>\n",
       "    </tr>\n",
       "    <tr>\n",
       "      <td>2017-10-01</td>\n",
       "      <td></td>\n",
       "      <td></td>\n",
       "      <td></td>\n",
       "      <td></td>\n",
       "      <td>3761</td>\n",
       "      <td>327</td>\n",
       "      <td>178</td>\n",
       "      <td>114</td>\n",
       "      <td>97</td>\n",
       "      <td>92</td>\n",
       "      <td>49</td>\n",
       "      <td>60.0</td>\n",
       "      <td></td>\n",
       "    </tr>\n",
       "    <tr>\n",
       "      <td>2017-11-01</td>\n",
       "      <td></td>\n",
       "      <td></td>\n",
       "      <td></td>\n",
       "      <td></td>\n",
       "      <td></td>\n",
       "      <td>3357</td>\n",
       "      <td>392</td>\n",
       "      <td>155</td>\n",
       "      <td>102</td>\n",
       "      <td>127</td>\n",
       "      <td>64</td>\n",
       "      <td>65.0</td>\n",
       "      <td></td>\n",
       "    </tr>\n",
       "    <tr>\n",
       "      <td>2017-12-01</td>\n",
       "      <td></td>\n",
       "      <td></td>\n",
       "      <td></td>\n",
       "      <td></td>\n",
       "      <td></td>\n",
       "      <td></td>\n",
       "      <td>3491</td>\n",
       "      <td>237</td>\n",
       "      <td>115</td>\n",
       "      <td>112</td>\n",
       "      <td>45</td>\n",
       "      <td>74.0</td>\n",
       "      <td></td>\n",
       "    </tr>\n",
       "    <tr>\n",
       "      <td>2018-01-01</td>\n",
       "      <td></td>\n",
       "      <td></td>\n",
       "      <td></td>\n",
       "      <td></td>\n",
       "      <td></td>\n",
       "      <td></td>\n",
       "      <td></td>\n",
       "      <td>2644</td>\n",
       "      <td>244</td>\n",
       "      <td>114</td>\n",
       "      <td>50</td>\n",
       "      <td>67.0</td>\n",
       "      <td></td>\n",
       "    </tr>\n",
       "    <tr>\n",
       "      <td>2018-02-01</td>\n",
       "      <td></td>\n",
       "      <td></td>\n",
       "      <td></td>\n",
       "      <td></td>\n",
       "      <td></td>\n",
       "      <td></td>\n",
       "      <td></td>\n",
       "      <td></td>\n",
       "      <td>2852</td>\n",
       "      <td>202</td>\n",
       "      <td>62</td>\n",
       "      <td>70.0</td>\n",
       "      <td></td>\n",
       "    </tr>\n",
       "    <tr>\n",
       "      <td>2018-03-01</td>\n",
       "      <td></td>\n",
       "      <td></td>\n",
       "      <td></td>\n",
       "      <td></td>\n",
       "      <td></td>\n",
       "      <td></td>\n",
       "      <td></td>\n",
       "      <td></td>\n",
       "      <td></td>\n",
       "      <td>2663</td>\n",
       "      <td>119</td>\n",
       "      <td>56.0</td>\n",
       "      <td></td>\n",
       "    </tr>\n",
       "    <tr>\n",
       "      <td>2018-04-01</td>\n",
       "      <td></td>\n",
       "      <td></td>\n",
       "      <td></td>\n",
       "      <td></td>\n",
       "      <td></td>\n",
       "      <td></td>\n",
       "      <td></td>\n",
       "      <td></td>\n",
       "      <td></td>\n",
       "      <td></td>\n",
       "      <td>1763</td>\n",
       "      <td>127.0</td>\n",
       "      <td></td>\n",
       "    </tr>\n",
       "    <tr>\n",
       "      <td>2018-05-01</td>\n",
       "      <td></td>\n",
       "      <td></td>\n",
       "      <td></td>\n",
       "      <td></td>\n",
       "      <td></td>\n",
       "      <td></td>\n",
       "      <td></td>\n",
       "      <td></td>\n",
       "      <td></td>\n",
       "      <td></td>\n",
       "      <td></td>\n",
       "      <td>2315.0</td>\n",
       "      <td>1</td>\n",
       "    </tr>\n",
       "  </tbody>\n",
       "</table>\n",
       "</div>"
      ],
      "text/plain": [
       "first_order_month 2017-06-01 2017-07-01 2017-08-01 2017-09-01 2017-10-01  \\\n",
       "first_visit_month                                                          \n",
       "2017-06-01              2023        170         67        107        119   \n",
       "2017-07-01                         1753         95         99        100   \n",
       "2017-08-01                                    1208        118         92   \n",
       "2017-09-01                                               2257        268   \n",
       "2017-10-01                                                          3761   \n",
       "2017-11-01                                                                 \n",
       "2017-12-01                                                                 \n",
       "2018-01-01                                                                 \n",
       "2018-02-01                                                                 \n",
       "2018-03-01                                                                 \n",
       "2018-04-01                                                                 \n",
       "2018-05-01                                                                 \n",
       "\n",
       "first_order_month 2017-11-01 2017-12-01 2018-01-01 2018-02-01 2018-03-01  \\\n",
       "first_visit_month                                                          \n",
       "2017-06-01                92         78         59         64         64   \n",
       "2017-07-01                89         77         67         62         50   \n",
       "2017-08-01                73         65         38         39         38   \n",
       "2017-09-01               143        102         59         76         71   \n",
       "2017-10-01               327        178        114         97         92   \n",
       "2017-11-01              3357        392        155        102        127   \n",
       "2017-12-01                         3491        237        115        112   \n",
       "2018-01-01                                    2644        244        114   \n",
       "2018-02-01                                               2852        202   \n",
       "2018-03-01                                                          2663   \n",
       "2018-04-01                                                                 \n",
       "2018-05-01                                                                 \n",
       "\n",
       "first_order_month 2018-04-01  2018-05-01 2018-06-01  \n",
       "first_visit_month                                    \n",
       "2017-06-01                26        54.0             \n",
       "2017-07-01                33        33.0             \n",
       "2017-08-01                25        25.0             \n",
       "2017-09-01                40        42.0             \n",
       "2017-10-01                49        60.0             \n",
       "2017-11-01                64        65.0             \n",
       "2017-12-01                45        74.0             \n",
       "2018-01-01                50        67.0             \n",
       "2018-02-01                62        70.0             \n",
       "2018-03-01               119        56.0             \n",
       "2018-04-01              1763       127.0             \n",
       "2018-05-01                        2315.0          1  "
      ]
     },
     "execution_count": 107,
     "metadata": {},
     "output_type": "execute_result"
    }
   ],
   "source": [
    "visits_log.pivot_table(index= 'first_visit_month', columns='first_order_month', values='uid', aggfunc='nunique').fillna('')"
   ]
  },
  {
   "cell_type": "markdown",
   "metadata": {},
   "source": [
    "Вывод: по свобной таблице можем сделать вывод, что в большинстве случаев пользователи начинают покупать в первый месяц пользования приложением. В последующие месяца показатель сильно падает  "
   ]
  },
  {
   "cell_type": "markdown",
   "metadata": {},
   "source": [
    "Сколько раз покупают за период"
   ]
  },
  {
   "cell_type": "code",
   "execution_count": 108,
   "metadata": {},
   "outputs": [],
   "source": [
    "orders_log = orders_log.join(first_order, on='uid')"
   ]
  },
  {
   "cell_type": "code",
   "execution_count": 109,
   "metadata": {},
   "outputs": [],
   "source": [
    "orders_log['buy_ts'] = orders_log['buy_ts'].astype('datetime64[M]')\n",
    "orders_log['first_order_month'] = orders_log['first_order_month'].astype('datetime64[M]')"
   ]
  },
  {
   "cell_type": "code",
   "execution_count": 110,
   "metadata": {},
   "outputs": [
    {
     "data": {
      "text/html": [
       "<div>\n",
       "<style scoped>\n",
       "    .dataframe tbody tr th:only-of-type {\n",
       "        vertical-align: middle;\n",
       "    }\n",
       "\n",
       "    .dataframe tbody tr th {\n",
       "        vertical-align: top;\n",
       "    }\n",
       "\n",
       "    .dataframe thead th {\n",
       "        text-align: right;\n",
       "    }\n",
       "</style>\n",
       "<table border=\"1\" class=\"dataframe\">\n",
       "  <thead>\n",
       "    <tr style=\"text-align: right;\">\n",
       "      <th>buy_ts</th>\n",
       "      <th>2017-06-01</th>\n",
       "      <th>2017-07-01</th>\n",
       "      <th>2017-08-01</th>\n",
       "      <th>2017-09-01</th>\n",
       "      <th>2017-10-01</th>\n",
       "      <th>2017-11-01</th>\n",
       "      <th>2017-12-01</th>\n",
       "      <th>2018-01-01</th>\n",
       "      <th>2018-02-01</th>\n",
       "      <th>2018-03-01</th>\n",
       "      <th>2018-04-01</th>\n",
       "      <th>2018-05-01</th>\n",
       "      <th>2018-06-01</th>\n",
       "    </tr>\n",
       "    <tr>\n",
       "      <th>first_order_month</th>\n",
       "      <th></th>\n",
       "      <th></th>\n",
       "      <th></th>\n",
       "      <th></th>\n",
       "      <th></th>\n",
       "      <th></th>\n",
       "      <th></th>\n",
       "      <th></th>\n",
       "      <th></th>\n",
       "      <th></th>\n",
       "      <th></th>\n",
       "      <th></th>\n",
       "      <th></th>\n",
       "    </tr>\n",
       "  </thead>\n",
       "  <tbody>\n",
       "    <tr>\n",
       "      <td>2017-06-01</td>\n",
       "      <td>2023</td>\n",
       "      <td>61</td>\n",
       "      <td>50</td>\n",
       "      <td>54</td>\n",
       "      <td>88</td>\n",
       "      <td>67</td>\n",
       "      <td>62</td>\n",
       "      <td>47</td>\n",
       "      <td>58</td>\n",
       "      <td>45</td>\n",
       "      <td>45</td>\n",
       "      <td>53</td>\n",
       "      <td></td>\n",
       "    </tr>\n",
       "    <tr>\n",
       "      <td>2017-07-01</td>\n",
       "      <td></td>\n",
       "      <td>1923</td>\n",
       "      <td>52</td>\n",
       "      <td>57</td>\n",
       "      <td>64</td>\n",
       "      <td>49</td>\n",
       "      <td>38</td>\n",
       "      <td>36</td>\n",
       "      <td>39</td>\n",
       "      <td>42</td>\n",
       "      <td>22</td>\n",
       "      <td>26</td>\n",
       "      <td></td>\n",
       "    </tr>\n",
       "    <tr>\n",
       "      <td>2017-08-01</td>\n",
       "      <td></td>\n",
       "      <td></td>\n",
       "      <td>1370</td>\n",
       "      <td>58</td>\n",
       "      <td>53</td>\n",
       "      <td>44</td>\n",
       "      <td>40</td>\n",
       "      <td>32</td>\n",
       "      <td>30</td>\n",
       "      <td>44</td>\n",
       "      <td>19</td>\n",
       "      <td>31</td>\n",
       "      <td></td>\n",
       "    </tr>\n",
       "    <tr>\n",
       "      <td>2017-09-01</td>\n",
       "      <td></td>\n",
       "      <td></td>\n",
       "      <td></td>\n",
       "      <td>2581</td>\n",
       "      <td>130</td>\n",
       "      <td>100</td>\n",
       "      <td>74</td>\n",
       "      <td>52</td>\n",
       "      <td>64</td>\n",
       "      <td>66</td>\n",
       "      <td>37</td>\n",
       "      <td>43</td>\n",
       "      <td></td>\n",
       "    </tr>\n",
       "    <tr>\n",
       "      <td>2017-10-01</td>\n",
       "      <td></td>\n",
       "      <td></td>\n",
       "      <td></td>\n",
       "      <td></td>\n",
       "      <td>4340</td>\n",
       "      <td>206</td>\n",
       "      <td>123</td>\n",
       "      <td>92</td>\n",
       "      <td>93</td>\n",
       "      <td>72</td>\n",
       "      <td>56</td>\n",
       "      <td>67</td>\n",
       "      <td></td>\n",
       "    </tr>\n",
       "    <tr>\n",
       "      <td>2017-11-01</td>\n",
       "      <td></td>\n",
       "      <td></td>\n",
       "      <td></td>\n",
       "      <td></td>\n",
       "      <td></td>\n",
       "      <td>4081</td>\n",
       "      <td>222</td>\n",
       "      <td>120</td>\n",
       "      <td>106</td>\n",
       "      <td>81</td>\n",
       "      <td>48</td>\n",
       "      <td>62</td>\n",
       "      <td></td>\n",
       "    </tr>\n",
       "    <tr>\n",
       "      <td>2017-12-01</td>\n",
       "      <td></td>\n",
       "      <td></td>\n",
       "      <td></td>\n",
       "      <td></td>\n",
       "      <td></td>\n",
       "      <td></td>\n",
       "      <td>4383</td>\n",
       "      <td>146</td>\n",
       "      <td>103</td>\n",
       "      <td>97</td>\n",
       "      <td>50</td>\n",
       "      <td>63</td>\n",
       "      <td></td>\n",
       "    </tr>\n",
       "    <tr>\n",
       "      <td>2018-01-01</td>\n",
       "      <td></td>\n",
       "      <td></td>\n",
       "      <td></td>\n",
       "      <td></td>\n",
       "      <td></td>\n",
       "      <td></td>\n",
       "      <td></td>\n",
       "      <td>3373</td>\n",
       "      <td>114</td>\n",
       "      <td>83</td>\n",
       "      <td>43</td>\n",
       "      <td>45</td>\n",
       "      <td></td>\n",
       "    </tr>\n",
       "    <tr>\n",
       "      <td>2018-02-01</td>\n",
       "      <td></td>\n",
       "      <td></td>\n",
       "      <td></td>\n",
       "      <td></td>\n",
       "      <td></td>\n",
       "      <td></td>\n",
       "      <td></td>\n",
       "      <td></td>\n",
       "      <td>3651</td>\n",
       "      <td>118</td>\n",
       "      <td>58</td>\n",
       "      <td>39</td>\n",
       "      <td></td>\n",
       "    </tr>\n",
       "    <tr>\n",
       "      <td>2018-03-01</td>\n",
       "      <td></td>\n",
       "      <td></td>\n",
       "      <td></td>\n",
       "      <td></td>\n",
       "      <td></td>\n",
       "      <td></td>\n",
       "      <td></td>\n",
       "      <td></td>\n",
       "      <td></td>\n",
       "      <td>3533</td>\n",
       "      <td>90</td>\n",
       "      <td>58</td>\n",
       "      <td></td>\n",
       "    </tr>\n",
       "    <tr>\n",
       "      <td>2018-04-01</td>\n",
       "      <td></td>\n",
       "      <td></td>\n",
       "      <td></td>\n",
       "      <td></td>\n",
       "      <td></td>\n",
       "      <td></td>\n",
       "      <td></td>\n",
       "      <td></td>\n",
       "      <td></td>\n",
       "      <td></td>\n",
       "      <td>2276</td>\n",
       "      <td>69</td>\n",
       "      <td></td>\n",
       "    </tr>\n",
       "    <tr>\n",
       "      <td>2018-05-01</td>\n",
       "      <td></td>\n",
       "      <td></td>\n",
       "      <td></td>\n",
       "      <td></td>\n",
       "      <td></td>\n",
       "      <td></td>\n",
       "      <td></td>\n",
       "      <td></td>\n",
       "      <td></td>\n",
       "      <td></td>\n",
       "      <td></td>\n",
       "      <td>2988</td>\n",
       "      <td></td>\n",
       "    </tr>\n",
       "    <tr>\n",
       "      <td>2018-06-01</td>\n",
       "      <td></td>\n",
       "      <td></td>\n",
       "      <td></td>\n",
       "      <td></td>\n",
       "      <td></td>\n",
       "      <td></td>\n",
       "      <td></td>\n",
       "      <td></td>\n",
       "      <td></td>\n",
       "      <td></td>\n",
       "      <td></td>\n",
       "      <td></td>\n",
       "      <td>1</td>\n",
       "    </tr>\n",
       "  </tbody>\n",
       "</table>\n",
       "</div>"
      ],
      "text/plain": [
       "buy_ts            2017-06-01 2017-07-01 2017-08-01 2017-09-01 2017-10-01  \\\n",
       "first_order_month                                                          \n",
       "2017-06-01              2023         61         50         54         88   \n",
       "2017-07-01                         1923         52         57         64   \n",
       "2017-08-01                                    1370         58         53   \n",
       "2017-09-01                                               2581        130   \n",
       "2017-10-01                                                          4340   \n",
       "2017-11-01                                                                 \n",
       "2017-12-01                                                                 \n",
       "2018-01-01                                                                 \n",
       "2018-02-01                                                                 \n",
       "2018-03-01                                                                 \n",
       "2018-04-01                                                                 \n",
       "2018-05-01                                                                 \n",
       "2018-06-01                                                                 \n",
       "\n",
       "buy_ts            2017-11-01 2017-12-01 2018-01-01 2018-02-01 2018-03-01  \\\n",
       "first_order_month                                                          \n",
       "2017-06-01                67         62         47         58         45   \n",
       "2017-07-01                49         38         36         39         42   \n",
       "2017-08-01                44         40         32         30         44   \n",
       "2017-09-01               100         74         52         64         66   \n",
       "2017-10-01               206        123         92         93         72   \n",
       "2017-11-01              4081        222        120        106         81   \n",
       "2017-12-01                         4383        146        103         97   \n",
       "2018-01-01                                    3373        114         83   \n",
       "2018-02-01                                               3651        118   \n",
       "2018-03-01                                                          3533   \n",
       "2018-04-01                                                                 \n",
       "2018-05-01                                                                 \n",
       "2018-06-01                                                                 \n",
       "\n",
       "buy_ts            2018-04-01 2018-05-01 2018-06-01  \n",
       "first_order_month                                   \n",
       "2017-06-01                45         53             \n",
       "2017-07-01                22         26             \n",
       "2017-08-01                19         31             \n",
       "2017-09-01                37         43             \n",
       "2017-10-01                56         67             \n",
       "2017-11-01                48         62             \n",
       "2017-12-01                50         63             \n",
       "2018-01-01                43         45             \n",
       "2018-02-01                58         39             \n",
       "2018-03-01                90         58             \n",
       "2018-04-01              2276         69             \n",
       "2018-05-01                         2988             \n",
       "2018-06-01                                       1  "
      ]
     },
     "execution_count": 110,
     "metadata": {},
     "output_type": "execute_result"
    }
   ],
   "source": [
    "orders_log.pivot_table(index='first_order_month',\n",
    "    columns='buy_ts',\n",
    "    values='uid',\n",
    "    aggfunc='nunique').fillna('')"
   ]
  },
  {
   "cell_type": "markdown",
   "metadata": {},
   "source": [
    "Вывод: После первого месяца количество покупателей в каждой когорте сильно подает и в рамках одной когорты остатеся примерно на одинаковом уровне. "
   ]
  },
  {
   "cell_type": "markdown",
   "metadata": {},
   "source": [
    "Какой средний чек?"
   ]
  },
  {
   "cell_type": "code",
   "execution_count": 111,
   "metadata": {},
   "outputs": [],
   "source": [
    "# сгруппируем данные по когорте first_order_month и месяцу совершения заказа order_month:\n",
    "\n",
    "orders_group = orders_log.groupby(['first_order_month', 'buy_ts']).agg({'revenue': 'sum', 'uid': 'nunique'}).reset_index()"
   ]
  },
  {
   "cell_type": "code",
   "execution_count": 112,
   "metadata": {},
   "outputs": [],
   "source": [
    "# orders_group"
   ]
  },
  {
   "cell_type": "code",
   "execution_count": 113,
   "metadata": {},
   "outputs": [],
   "source": [
    "# Найдём средний чек покупателя\n",
    "\n",
    "orders_group['revenue_per_user'] = orders_group['revenue'] / orders_group['uid']"
   ]
  },
  {
   "cell_type": "code",
   "execution_count": 114,
   "metadata": {},
   "outputs": [],
   "source": [
    "revenue_per_user = orders_group.pivot_table(index='first_order_month',values='revenue_per_user',aggfunc='mean').fillna('').reset_index()"
   ]
  },
  {
   "cell_type": "code",
   "execution_count": 115,
   "metadata": {},
   "outputs": [
    {
     "data": {
      "image/png": "[encoded data removed]",
      "text/plain": [
       "<Figure size 576x432 with 1 Axes>"
      ]
     },
     "metadata": {
      "needs_background": "light"
     },
     "output_type": "display_data"
    }
   ],
   "source": [
    "revenue_per_user.plot(x='first_order_month', y='revenue_per_user', grid=True, figsize=(8,6))\n",
    "plt.title('График изменения среднего чека во времени');"
   ]
  },
  {
   "cell_type": "code",
   "execution_count": 116,
   "metadata": {},
   "outputs": [
    {
     "data": {
      "text/html": [
       "<div>\n",
       "<style scoped>\n",
       "    .dataframe tbody tr th:only-of-type {\n",
       "        vertical-align: middle;\n",
       "    }\n",
       "\n",
       "    .dataframe tbody tr th {\n",
       "        vertical-align: top;\n",
       "    }\n",
       "\n",
       "    .dataframe thead th {\n",
       "        text-align: right;\n",
       "    }\n",
       "</style>\n",
       "<table border=\"1\" class=\"dataframe\">\n",
       "  <thead>\n",
       "    <tr style=\"text-align: right;\">\n",
       "      <th>buy_ts</th>\n",
       "      <th>2017-06-01</th>\n",
       "      <th>2017-07-01</th>\n",
       "      <th>2017-08-01</th>\n",
       "      <th>2017-09-01</th>\n",
       "      <th>2017-10-01</th>\n",
       "      <th>2017-11-01</th>\n",
       "      <th>2017-12-01</th>\n",
       "      <th>2018-01-01</th>\n",
       "      <th>2018-02-01</th>\n",
       "      <th>2018-03-01</th>\n",
       "      <th>2018-04-01</th>\n",
       "      <th>2018-05-01</th>\n",
       "      <th>2018-06-01</th>\n",
       "    </tr>\n",
       "    <tr>\n",
       "      <th>first_order_month</th>\n",
       "      <th></th>\n",
       "      <th></th>\n",
       "      <th></th>\n",
       "      <th></th>\n",
       "      <th></th>\n",
       "      <th></th>\n",
       "      <th></th>\n",
       "      <th></th>\n",
       "      <th></th>\n",
       "      <th></th>\n",
       "      <th></th>\n",
       "      <th></th>\n",
       "      <th></th>\n",
       "    </tr>\n",
       "  </thead>\n",
       "  <tbody>\n",
       "    <tr>\n",
       "      <td>2017-06-01</td>\n",
       "      <td>4.72441</td>\n",
       "      <td>16.0954</td>\n",
       "      <td>17.7068</td>\n",
       "      <td>35.7648</td>\n",
       "      <td>23.5066</td>\n",
       "      <td>22.2078</td>\n",
       "      <td>31.0119</td>\n",
       "      <td>25.0332</td>\n",
       "      <td>19.2957</td>\n",
       "      <td>27.2336</td>\n",
       "      <td>25.6813</td>\n",
       "      <td>9.80415</td>\n",
       "      <td></td>\n",
       "    </tr>\n",
       "    <tr>\n",
       "      <td>2017-07-01</td>\n",
       "      <td></td>\n",
       "      <td>6.01022</td>\n",
       "      <td>12.3963</td>\n",
       "      <td>21.036</td>\n",
       "      <td>10.7861</td>\n",
       "      <td>6.93816</td>\n",
       "      <td>7.89684</td>\n",
       "      <td>6.42111</td>\n",
       "      <td>6.99282</td>\n",
       "      <td>7.38214</td>\n",
       "      <td>12.8618</td>\n",
       "      <td>11.5138</td>\n",
       "      <td></td>\n",
       "    </tr>\n",
       "    <tr>\n",
       "      <td>2017-08-01</td>\n",
       "      <td></td>\n",
       "      <td></td>\n",
       "      <td>5.27652</td>\n",
       "      <td>11.1488</td>\n",
       "      <td>11.8513</td>\n",
       "      <td>12.183</td>\n",
       "      <td>16.9212</td>\n",
       "      <td>12.1391</td>\n",
       "      <td>9.62033</td>\n",
       "      <td>12.6105</td>\n",
       "      <td>21.07</td>\n",
       "      <td>8.30742</td>\n",
       "      <td></td>\n",
       "    </tr>\n",
       "    <tr>\n",
       "      <td>2017-09-01</td>\n",
       "      <td></td>\n",
       "      <td></td>\n",
       "      <td></td>\n",
       "      <td>5.64453</td>\n",
       "      <td>22.1884</td>\n",
       "      <td>13.4452</td>\n",
       "      <td>138.669</td>\n",
       "      <td>19.8815</td>\n",
       "      <td>26.095</td>\n",
       "      <td>27.4371</td>\n",
       "      <td>16.9614</td>\n",
       "      <td>11.0447</td>\n",
       "      <td></td>\n",
       "    </tr>\n",
       "    <tr>\n",
       "      <td>2017-10-01</td>\n",
       "      <td></td>\n",
       "      <td></td>\n",
       "      <td></td>\n",
       "      <td></td>\n",
       "      <td>5.00373</td>\n",
       "      <td>11.2874</td>\n",
       "      <td>6.75325</td>\n",
       "      <td>7.41315</td>\n",
       "      <td>7.0728</td>\n",
       "      <td>7.25514</td>\n",
       "      <td>6.57321</td>\n",
       "      <td>7.4797</td>\n",
       "      <td></td>\n",
       "    </tr>\n",
       "    <tr>\n",
       "      <td>2017-11-01</td>\n",
       "      <td></td>\n",
       "      <td></td>\n",
       "      <td></td>\n",
       "      <td></td>\n",
       "      <td></td>\n",
       "      <td>5.15468</td>\n",
       "      <td>7.33905</td>\n",
       "      <td>6.78658</td>\n",
       "      <td>12.5107</td>\n",
       "      <td>7.45728</td>\n",
       "      <td>4.58083</td>\n",
       "      <td>7.56484</td>\n",
       "      <td></td>\n",
       "    </tr>\n",
       "    <tr>\n",
       "      <td>2017-12-01</td>\n",
       "      <td></td>\n",
       "      <td></td>\n",
       "      <td></td>\n",
       "      <td></td>\n",
       "      <td></td>\n",
       "      <td></td>\n",
       "      <td>4.73819</td>\n",
       "      <td>7.81658</td>\n",
       "      <td>39.366</td>\n",
       "      <td>48.1351</td>\n",
       "      <td>27.4314</td>\n",
       "      <td>23.5184</td>\n",
       "      <td></td>\n",
       "    </tr>\n",
       "    <tr>\n",
       "      <td>2018-01-01</td>\n",
       "      <td></td>\n",
       "      <td></td>\n",
       "      <td></td>\n",
       "      <td></td>\n",
       "      <td></td>\n",
       "      <td></td>\n",
       "      <td></td>\n",
       "      <td>4.13564</td>\n",
       "      <td>8.72123</td>\n",
       "      <td>12.3655</td>\n",
       "      <td>11.1998</td>\n",
       "      <td>4.69956</td>\n",
       "      <td></td>\n",
       "    </tr>\n",
       "    <tr>\n",
       "      <td>2018-02-01</td>\n",
       "      <td></td>\n",
       "      <td></td>\n",
       "      <td></td>\n",
       "      <td></td>\n",
       "      <td></td>\n",
       "      <td></td>\n",
       "      <td></td>\n",
       "      <td></td>\n",
       "      <td>4.15699</td>\n",
       "      <td>8.61</td>\n",
       "      <td>4.94241</td>\n",
       "      <td>6.94103</td>\n",
       "      <td></td>\n",
       "    </tr>\n",
       "    <tr>\n",
       "      <td>2018-03-01</td>\n",
       "      <td></td>\n",
       "      <td></td>\n",
       "      <td></td>\n",
       "      <td></td>\n",
       "      <td></td>\n",
       "      <td></td>\n",
       "      <td></td>\n",
       "      <td></td>\n",
       "      <td></td>\n",
       "      <td>4.8388</td>\n",
       "      <td>11.8117</td>\n",
       "      <td>19.2219</td>\n",
       "      <td></td>\n",
       "    </tr>\n",
       "    <tr>\n",
       "      <td>2018-04-01</td>\n",
       "      <td></td>\n",
       "      <td></td>\n",
       "      <td></td>\n",
       "      <td></td>\n",
       "      <td></td>\n",
       "      <td></td>\n",
       "      <td></td>\n",
       "      <td></td>\n",
       "      <td></td>\n",
       "      <td></td>\n",
       "      <td>4.6576</td>\n",
       "      <td>17.5351</td>\n",
       "      <td></td>\n",
       "    </tr>\n",
       "    <tr>\n",
       "      <td>2018-05-01</td>\n",
       "      <td></td>\n",
       "      <td></td>\n",
       "      <td></td>\n",
       "      <td></td>\n",
       "      <td></td>\n",
       "      <td></td>\n",
       "      <td></td>\n",
       "      <td></td>\n",
       "      <td></td>\n",
       "      <td></td>\n",
       "      <td></td>\n",
       "      <td>4.66056</td>\n",
       "      <td></td>\n",
       "    </tr>\n",
       "    <tr>\n",
       "      <td>2018-06-01</td>\n",
       "      <td></td>\n",
       "      <td></td>\n",
       "      <td></td>\n",
       "      <td></td>\n",
       "      <td></td>\n",
       "      <td></td>\n",
       "      <td></td>\n",
       "      <td></td>\n",
       "      <td></td>\n",
       "      <td></td>\n",
       "      <td></td>\n",
       "      <td></td>\n",
       "      <td>3.42</td>\n",
       "    </tr>\n",
       "  </tbody>\n",
       "</table>\n",
       "</div>"
      ],
      "text/plain": [
       "buy_ts            2017-06-01 2017-07-01 2017-08-01 2017-09-01 2017-10-01  \\\n",
       "first_order_month                                                          \n",
       "2017-06-01           4.72441    16.0954    17.7068    35.7648    23.5066   \n",
       "2017-07-01                      6.01022    12.3963     21.036    10.7861   \n",
       "2017-08-01                                 5.27652    11.1488    11.8513   \n",
       "2017-09-01                                            5.64453    22.1884   \n",
       "2017-10-01                                                       5.00373   \n",
       "2017-11-01                                                                 \n",
       "2017-12-01                                                                 \n",
       "2018-01-01                                                                 \n",
       "2018-02-01                                                                 \n",
       "2018-03-01                                                                 \n",
       "2018-04-01                                                                 \n",
       "2018-05-01                                                                 \n",
       "2018-06-01                                                                 \n",
       "\n",
       "buy_ts            2017-11-01 2017-12-01 2018-01-01 2018-02-01 2018-03-01  \\\n",
       "first_order_month                                                          \n",
       "2017-06-01           22.2078    31.0119    25.0332    19.2957    27.2336   \n",
       "2017-07-01           6.93816    7.89684    6.42111    6.99282    7.38214   \n",
       "2017-08-01            12.183    16.9212    12.1391    9.62033    12.6105   \n",
       "2017-09-01           13.4452    138.669    19.8815     26.095    27.4371   \n",
       "2017-10-01           11.2874    6.75325    7.41315     7.0728    7.25514   \n",
       "2017-11-01           5.15468    7.33905    6.78658    12.5107    7.45728   \n",
       "2017-12-01                      4.73819    7.81658     39.366    48.1351   \n",
       "2018-01-01                                 4.13564    8.72123    12.3655   \n",
       "2018-02-01                                            4.15699       8.61   \n",
       "2018-03-01                                                        4.8388   \n",
       "2018-04-01                                                                 \n",
       "2018-05-01                                                                 \n",
       "2018-06-01                                                                 \n",
       "\n",
       "buy_ts            2018-04-01 2018-05-01 2018-06-01  \n",
       "first_order_month                                   \n",
       "2017-06-01           25.6813    9.80415             \n",
       "2017-07-01           12.8618    11.5138             \n",
       "2017-08-01             21.07    8.30742             \n",
       "2017-09-01           16.9614    11.0447             \n",
       "2017-10-01           6.57321     7.4797             \n",
       "2017-11-01           4.58083    7.56484             \n",
       "2017-12-01           27.4314    23.5184             \n",
       "2018-01-01           11.1998    4.69956             \n",
       "2018-02-01           4.94241    6.94103             \n",
       "2018-03-01           11.8117    19.2219             \n",
       "2018-04-01            4.6576    17.5351             \n",
       "2018-05-01                      4.66056             \n",
       "2018-06-01                                    3.42  "
      ]
     },
     "execution_count": 116,
     "metadata": {},
     "output_type": "execute_result"
    }
   ],
   "source": [
    "# Построим сводную таблицу изменения среднего чека в когортах по месяцу \n",
    "\n",
    "orders_group.pivot_table(index='first_order_month',columns='buy_ts',values='revenue_per_user',aggfunc='mean').fillna('')"
   ]
  },
  {
   "cell_type": "code",
   "execution_count": 117,
   "metadata": {},
   "outputs": [],
   "source": [
    "# Найдём lifetime когорты\n",
    "\n",
    "orders_group = orders_group.reset_index()\n",
    "orders_group['cohort_lifetime'] = orders_group['buy_ts'] - orders_group['first_order_month']"
   ]
  },
  {
   "cell_type": "code",
   "execution_count": 118,
   "metadata": {},
   "outputs": [],
   "source": [
    "# Преобразуем этот тип в число месяцев, прошедших между датами\n",
    "\n",
    "orders_group['cohort_lifetime'] = orders_group['cohort_lifetime'] / np.timedelta64(1,'M')"
   ]
  },
  {
   "cell_type": "code",
   "execution_count": 119,
   "metadata": {},
   "outputs": [],
   "source": [
    "orders_group['cohort_lifetime'] = orders_group['cohort_lifetime'].round().astype('int')"
   ]
  },
  {
   "cell_type": "code",
   "execution_count": 120,
   "metadata": {},
   "outputs": [],
   "source": [
    "# оставим в обозначении когорты только год и месяц\n",
    "\n",
    "orders_group['first_order_month'] = orders_group['first_order_month'].dt.strftime('%d.%m.%Y')"
   ]
  },
  {
   "cell_type": "code",
   "execution_count": 121,
   "metadata": {},
   "outputs": [],
   "source": [
    "# Построим сводную таблицу изменения среднего чека\n",
    "\n",
    "revenue_per_user = orders_group.pivot_table(index='first_order_month',columns='cohort_lifetime',values='revenue_per_user',aggfunc='mean')"
   ]
  },
  {
   "cell_type": "code",
   "execution_count": 122,
   "metadata": {
    "scrolled": true
   },
   "outputs": [
    {
     "data": {
      "image/png": "[encoded data removed]",
      "text/plain": [
       "<Figure size 936x648 with 2 Axes>"
      ]
     },
     "metadata": {
      "needs_background": "light"
     },
     "output_type": "display_data"
    }
   ],
   "source": [
    "plt.figure(figsize=(13, 9))\n",
    "plt.title('Средний чек покупателей')\n",
    "sns.heatmap(revenue_per_user, annot=True, fmt='.1f', linewidths=1, linecolor='gray');"
   ]
  },
  {
   "cell_type": "markdown",
   "metadata": {},
   "source": [
    "Вывод: Для всех когорт в первый месяц уровень среднего чека приерно одинаковый. Так же во всех когортах средний чек поднимается на 2 и практически всегда на 3 месяц. У некоторых когорт наблюдается резкий рост среднего чека в одном месяце, после чего такой же резкий спад примерно до прошлого уровня (когорта от 01/09/2017). В целом средний чек во всех когортах увеличивается. Даже если в какой-то момнт показатель проваливается, потом все равно начинается рост. Падение среднего чека в последний период наблюдается у 10 когорт из 13. "
   ]
  },
  {
   "cell_type": "markdown",
   "metadata": {},
   "source": [
    "Сколько денег приносят? (LTV)"
   ]
  },
  {
   "cell_type": "markdown",
   "metadata": {},
   "source": [
    "Добавим месяц первого посещения сайта"
   ]
  },
  {
   "cell_type": "code",
   "execution_count": 123,
   "metadata": {},
   "outputs": [],
   "source": [
    "orders_log = orders_log.merge(first_active_month, on='uid')"
   ]
  },
  {
   "cell_type": "code",
   "execution_count": 124,
   "metadata": {},
   "outputs": [],
   "source": [
    "orders_log.rename(columns={'first_visit_month_y': 'first_visit_month'}, inplace=True)"
   ]
  },
  {
   "cell_type": "code",
   "execution_count": 125,
   "metadata": {},
   "outputs": [],
   "source": [
    "orders_log['first_visit_month'] = orders_log['first_visit_month'].astype('datetime64[M]')"
   ]
  },
  {
   "cell_type": "markdown",
   "metadata": {},
   "source": [
    "Добавим данные о количестве уникальных пользователей по месяцу первого посещения сайта и после добавим сгруппированные данные в датафрейм с заказами"
   ]
  },
  {
   "cell_type": "code",
   "execution_count": 126,
   "metadata": {},
   "outputs": [
    {
     "data": {
      "text/plain": [
       "first_visit_month\n",
       "2017-06-01    2923\n",
       "2017-07-01    2458\n",
       "2017-08-01    1721\n",
       "2017-09-01    3058\n",
       "2017-10-01    4678\n",
       "2017-11-01    4262\n",
       "2017-12-01    4074\n",
       "2018-01-01    3119\n",
       "2018-02-01    3186\n",
       "2018-03-01    2838\n",
       "2018-04-01    1890\n",
       "2018-05-01    2316\n",
       "Name: uid, dtype: int64"
      ]
     },
     "execution_count": 126,
     "metadata": {},
     "output_type": "execute_result"
    }
   ],
   "source": [
    "cohort_sizes = orders_log.groupby('first_visit_month')['uid'].nunique()\n",
    "cohort_sizes"
   ]
  },
  {
   "cell_type": "code",
   "execution_count": 127,
   "metadata": {},
   "outputs": [],
   "source": [
    "orders_log = orders_log.merge(cohort_sizes, on='first_visit_month')"
   ]
  },
  {
   "cell_type": "code",
   "execution_count": 128,
   "metadata": {},
   "outputs": [],
   "source": [
    "orders_log.rename(columns={'uid_x': 'uid', 'uid_y': 'cohort_size'}, inplace=True)"
   ]
  },
  {
   "cell_type": "markdown",
   "metadata": {},
   "source": [
    "Объединим данные с двух датафремов"
   ]
  },
  {
   "cell_type": "code",
   "execution_count": 129,
   "metadata": {},
   "outputs": [],
   "source": [
    "data = visits_log.groupby(['start_ts', 'source_id', 'device', 'uid']).agg({'start_ts': 'min'})"
   ]
  },
  {
   "cell_type": "code",
   "execution_count": 130,
   "metadata": {},
   "outputs": [],
   "source": [
    "data['start_ts'] = data['start_ts'].astype('datetime64[M]')\n",
    "data.rename(columns={'start_ts': 'start'}, inplace=True)"
   ]
  },
  {
   "cell_type": "code",
   "execution_count": 131,
   "metadata": {},
   "outputs": [],
   "source": [
    "data = data.reset_index()"
   ]
  },
  {
   "cell_type": "code",
   "execution_count": 132,
   "metadata": {},
   "outputs": [],
   "source": [
    "data = data.merge(orders_log, on='uid')"
   ]
  },
  {
   "cell_type": "markdown",
   "metadata": {},
   "source": [
    "Посчитаем lifetime для каждого пользователя"
   ]
  },
  {
   "cell_type": "code",
   "execution_count": 153,
   "metadata": {},
   "outputs": [],
   "source": [
    "data['age'] = ((data['buy_ts'] - data['first_order_month']) / np.timedelta64(1, 'M')).round().astype('int')"
   ]
  },
  {
   "cell_type": "markdown",
   "metadata": {},
   "source": [
    "Приведем данные к помесячным показателям"
   ]
  },
  {
   "cell_type": "code",
   "execution_count": 154,
   "metadata": {},
   "outputs": [],
   "source": [
    "monthly_data = (data\n",
    "    .groupby(['first_visit_month', 'first_order_month', 'device', 'source_id','age'])\n",
    "    .agg({'cohort_size': 'mean', 'uid':['count', 'nunique'], 'revenue':'sum'})\n",
    "    )\n",
    "monthly_data.columns = ['cohort_size', 'orders_count', 'uid_count', 'revenue']\n",
    "monthly_data = monthly_data.reset_index()"
   ]
  },
  {
   "cell_type": "markdown",
   "metadata": {},
   "source": [
    "Распределим данные о заказах по когортам без учета данных об устройстве и источниках рекламы"
   ]
  },
  {
   "cell_type": "code",
   "execution_count": 155,
   "metadata": {},
   "outputs": [
    {
     "data": {
      "text/html": [
       "<div>\n",
       "<style scoped>\n",
       "    .dataframe tbody tr th:only-of-type {\n",
       "        vertical-align: middle;\n",
       "    }\n",
       "\n",
       "    .dataframe tbody tr th {\n",
       "        vertical-align: top;\n",
       "    }\n",
       "\n",
       "    .dataframe thead th {\n",
       "        text-align: right;\n",
       "    }\n",
       "</style>\n",
       "<table border=\"1\" class=\"dataframe\">\n",
       "  <thead>\n",
       "    <tr style=\"text-align: right;\">\n",
       "      <th></th>\n",
       "      <th>first_visit_month</th>\n",
       "      <th>first_order_month</th>\n",
       "      <th>age</th>\n",
       "      <th>cohort_size</th>\n",
       "      <th>orders_count</th>\n",
       "      <th>revenue</th>\n",
       "      <th>uid_count</th>\n",
       "    </tr>\n",
       "  </thead>\n",
       "  <tbody>\n",
       "    <tr>\n",
       "      <td>0</td>\n",
       "      <td>2017-06-01</td>\n",
       "      <td>2017-06-01</td>\n",
       "      <td>0</td>\n",
       "      <td>2923</td>\n",
       "      <td>25839</td>\n",
       "      <td>148121.29</td>\n",
       "      <td>3388</td>\n",
       "    </tr>\n",
       "    <tr>\n",
       "      <td>1</td>\n",
       "      <td>2017-06-01</td>\n",
       "      <td>2017-06-01</td>\n",
       "      <td>1</td>\n",
       "      <td>2923</td>\n",
       "      <td>25677</td>\n",
       "      <td>155869.55</td>\n",
       "      <td>207</td>\n",
       "    </tr>\n",
       "    <tr>\n",
       "      <td>2</td>\n",
       "      <td>2017-06-01</td>\n",
       "      <td>2017-06-01</td>\n",
       "      <td>2</td>\n",
       "      <td>2923</td>\n",
       "      <td>25127</td>\n",
       "      <td>114898.83</td>\n",
       "      <td>193</td>\n",
       "    </tr>\n",
       "  </tbody>\n",
       "</table>\n",
       "</div>"
      ],
      "text/plain": [
       "  first_visit_month first_order_month  age  cohort_size  orders_count  \\\n",
       "0        2017-06-01        2017-06-01    0         2923         25839   \n",
       "1        2017-06-01        2017-06-01    1         2923         25677   \n",
       "2        2017-06-01        2017-06-01    2         2923         25127   \n",
       "\n",
       "     revenue  uid_count  \n",
       "0  148121.29       3388  \n",
       "1  155869.55        207  \n",
       "2  114898.83        193  "
      ]
     },
     "execution_count": 155,
     "metadata": {},
     "output_type": "execute_result"
    }
   ],
   "source": [
    "orders_cohorts = (monthly_data\n",
    "                 .groupby(['first_visit_month', 'first_order_month', 'age'])\n",
    "                 .agg({'cohort_size': 'mean', 'orders_count':'sum', 'revenue': 'sum', 'uid_count':'sum'})\n",
    "                 .reset_index()\n",
    "                 )\n",
    "orders_cohorts.head(3)"
   ]
  },
  {
   "cell_type": "markdown",
   "metadata": {},
   "source": [
    "Расчитаем ltv на одного покупателя когорты в месяц"
   ]
  },
  {
   "cell_type": "code",
   "execution_count": 156,
   "metadata": {},
   "outputs": [],
   "source": [
    "orders_cohorts['ltv'] = (orders_cohorts['revenue'] / orders_cohorts['cohort_size']).round(2)"
   ]
  },
  {
   "cell_type": "markdown",
   "metadata": {},
   "source": [
    "Построим сводную таблицу и сделаем тепловую карту "
   ]
  },
  {
   "cell_type": "code",
   "execution_count": 157,
   "metadata": {},
   "outputs": [],
   "source": [
    "ltv_cohorts = orders_cohorts.pivot_table(index='first_visit_month',columns='age',values= 'ltv',aggfunc='mean')\n",
    "ltv_cohorts = ltv_cohorts.cumsum(axis=1).round(2)"
   ]
  },
  {
   "cell_type": "code",
   "execution_count": 158,
   "metadata": {},
   "outputs": [
    {
     "data": {
      "image/png": "[encoded data removed]",
      "text/plain": [
       "<Figure size 720x576 with 2 Axes>"
      ]
     },
     "metadata": {
      "needs_background": "light"
     },
     "output_type": "display_data"
    }
   ],
   "source": [
    "plt.figure(figsize=(10,8))\n",
    "plt.title('Доход на одного покупатедя, ltv')\n",
    "sns.heatmap(ltv_cohorts, annot=True, fmt='.1f', linewidths=1, linecolor='gray');"
   ]
  },
  {
   "cell_type": "code",
   "execution_count": 139,
   "metadata": {},
   "outputs": [
    {
     "data": {
      "text/plain": [
       "first_visit_month\n",
       "2017-06-01    1424.37\n",
       "2017-07-01      70.35\n",
       "2017-08-01     348.31\n",
       "2017-09-01     424.44\n",
       "2017-10-01      34.97\n",
       "2017-11-01      52.61\n",
       "2017-12-01      50.56\n",
       "2018-01-01      40.63\n",
       "2018-02-01      19.33\n",
       "2018-03-01      65.99\n",
       "2018-04-01      20.34\n",
       "2018-05-01       3.46\n",
       "dtype: float64"
      ]
     },
     "execution_count": 139,
     "metadata": {},
     "output_type": "execute_result"
    }
   ],
   "source": [
    "# Посчитаем итоговый LTV когорт\n",
    "\n",
    "ltv_cohorts_all = (ltv_cohorts.sum(axis=1)).round(2)\n",
    "ltv_cohorts_all"
   ]
  },
  {
   "cell_type": "code",
   "execution_count": 140,
   "metadata": {},
   "outputs": [
    {
     "data": {
      "text/plain": [
       "212.95"
      ]
     },
     "execution_count": 140,
     "metadata": {},
     "output_type": "execute_result"
    }
   ],
   "source": [
    "# Посчитаем средний LVT когорт\n",
    "\n",
    "ltv_cohorts_all.mean().round(2)"
   ]
  },
  {
   "cell_type": "markdown",
   "metadata": {},
   "source": [
    "Посчитаем средний LTV для разных источников"
   ]
  },
  {
   "cell_type": "code",
   "execution_count": 141,
   "metadata": {},
   "outputs": [],
   "source": [
    "monthly_data['ltv'] = (monthly_data['revenue'] / monthly_data['cohort_size']).round(2)"
   ]
  },
  {
   "cell_type": "code",
   "execution_count": 142,
   "metadata": {},
   "outputs": [
    {
     "data": {
      "text/plain": [
       "source_id\n",
       "2     1.85\n",
       "1     1.80\n",
       "5     0.94\n",
       "4     0.34\n",
       "3     0.21\n",
       "9     0.03\n",
       "10    0.02\n",
       "7     0.00\n",
       "Name: ltv, dtype: float64"
      ]
     },
     "execution_count": 142,
     "metadata": {},
     "output_type": "execute_result"
    }
   ],
   "source": [
    "source_ltv = monthly_data.groupby('source_id')['ltv'].mean().round(2)\n",
    "source_ltv.columns = ['source_id', 'ltv']\n",
    "source_ltv.sort_values(ascending=False)"
   ]
  },
  {
   "cell_type": "markdown",
   "metadata": {},
   "source": [
    "Вывод: Больше всего прибыли приносят пользователи первой когорты, далее показатель  падает и в дальнейшем значительный рост дохода не наблюдается ни у одной когорты. В разрезе источников рекламы больше всего прибыли на привлеченного пользователя компания получает с 2,1 и 5 источников. 7 и 10 источник рекламы не приносит практически никакой прибыли"
   ]
  },
  {
   "cell_type": "markdown",
   "metadata": {},
   "source": [
    "Общий вывод по разделу: По итогам раздела можно сделать вывод, что в основном пользователи пользуются активно приложением в первый месяц. Так же очень небольшое число людей продолжает покупать в дальнейшие месяца. По прошествия времени размер среднего цека увеличивается для разных когорт. Прибыль с обдного пользователя достигает наибольшего размера в первой когорте, далее идет ощутимый спад и далее этот показатель не меняется сильно в разрезе когорт. "
   ]
  },
  {
   "cell_type": "markdown",
   "metadata": {},
   "source": [
    "Маркетинг"
   ]
  },
  {
   "cell_type": "markdown",
   "metadata": {},
   "source": [
    "Сколько денег потратили? Всего / на каждый источник / по времени"
   ]
  },
  {
   "cell_type": "code",
   "execution_count": 143,
   "metadata": {},
   "outputs": [
    {
     "name": "stdout",
     "output_type": "stream",
     "text": [
      "Всего потратила денег: 329132.0\n"
     ]
    }
   ],
   "source": [
    "costs_total = costs['costs'].sum().round()\n",
    "print('Всего потратила денег:', costs_total)"
   ]
  },
  {
   "cell_type": "code",
   "execution_count": 190,
   "metadata": {},
   "outputs": [
    {
     "data": {
      "image/png": "[encoded data removed]",
      "text/plain": [
       "<Figure size 432x288 with 1 Axes>"
      ]
     },
     "metadata": {},
     "output_type": "display_data"
    }
   ],
   "source": [
    "costs_source = costs.groupby('source_id')['costs'].sum().round()\n",
    "plt.title('Затраты на рекламные источники, руб')\n",
    "costs_source.plot(kind='pie');"
   ]
  },
  {
   "cell_type": "code",
   "execution_count": 188,
   "metadata": {
    "scrolled": true
   },
   "outputs": [
    {
     "data": {
      "image/png": "[encoded data removed]",
      "text/plain": [
       "<Figure size 720x288 with 1 Axes>"
      ]
     },
     "metadata": {
      "needs_background": "light"
     },
     "output_type": "display_data"
    }
   ],
   "source": [
    "costs['first_visit_month'] = costs['first_visit_month'].astype('datetime64[M]')\n",
    "costs_date = costs.groupby('first_visit_month')['costs'].sum().round()\n",
    "costs_date.plot(kind= 'bar', figsize=(10, 4), grid=True)\n",
    "plt.title('График изменения расходов на рекламу во времени');"
   ]
  },
  {
   "cell_type": "code",
   "execution_count": 176,
   "metadata": {},
   "outputs": [
    {
     "data": {
      "image/png": "[encoded data removed]",
      "text/plain": [
       "<Figure size 720x576 with 1 Axes>"
      ]
     },
     "metadata": {
      "needs_background": "light"
     },
     "output_type": "display_data"
    }
   ],
   "source": [
    "costs_sum = costs.pivot_table(index='first_visit_month', columns='source_id', values='costs', aggfunc='sum').plot(figsize=(10,8), grid=True)\n",
    "plt.title('Изменение расходов на разные источники трафика во времени');"
   ]
  },
  {
   "cell_type": "markdown",
   "metadata": {},
   "source": [
    "Вывод: Всего компания потратила на маркетинг почти 330 тысяч. Больше всего расходов потребовалось для продвижения рекламы через 3 рекламный источник. За ним с отставанием в 2-3 раза идут рекламные источники 4 и 5. В разрезе каждого источника индивидуально наблюдаем что с августа 2017 по март 2018 денег на рекламу тратили больше всего. До и после этого периода наблюдается планомерный спад"
   ]
  },
  {
   "cell_type": "markdown",
   "metadata": {},
   "source": [
    "Сколько стоило привлечение одного покупателя из каждого источника?"
   ]
  },
  {
   "cell_type": "code",
   "execution_count": 146,
   "metadata": {},
   "outputs": [],
   "source": [
    "costs.rename(columns= ({'dt': 'first_visit_month'}), inplace=True)"
   ]
  },
  {
   "cell_type": "markdown",
   "metadata": {},
   "source": [
    "Объединим данные для расчета затрат по привлечение из разных источников"
   ]
  },
  {
   "cell_type": "code",
   "execution_count": 147,
   "metadata": {},
   "outputs": [],
   "source": [
    "total= pd.merge(monthly_data, costs, on=['source_id','first_visit_month'])"
   ]
  },
  {
   "cell_type": "markdown",
   "metadata": {},
   "source": [
    "Посчитаем затраты для привлечения одного пользователя для каждого источника"
   ]
  },
  {
   "cell_type": "code",
   "execution_count": 148,
   "metadata": {},
   "outputs": [],
   "source": [
    "total['cac'] = total['costs'] / total['uid_count']"
   ]
  },
  {
   "cell_type": "code",
   "execution_count": 149,
   "metadata": {},
   "outputs": [
    {
     "data": {
      "image/png": "[encoded data removed]",
      "text/plain": [
       "<Figure size 432x288 with 1 Axes>"
      ]
     },
     "metadata": {
      "needs_background": "light"
     },
     "output_type": "display_data"
    }
   ],
   "source": [
    "total_cac = (total.groupby('source_id').agg({'cac':'mean'})).round().reset_index()\n",
    "total_cac.columns =['source_id', 'cac_source']\n",
    "total_cac.plot(x='source_id', y='cac_source', kind='bar')\n",
    "plt.title('Стоимость привлечения одного пользователя из разных источников');"
   ]
  },
  {
   "cell_type": "code",
   "execution_count": 186,
   "metadata": {},
   "outputs": [
    {
     "data": {
      "image/png": "[encoded data removed]",
      "text/plain": [
       "<Figure size 864x360 with 1 Axes>"
      ]
     },
     "metadata": {
      "needs_background": "light"
     },
     "output_type": "display_data"
    }
   ],
   "source": [
    "total_cac = total.groupby('first_visit_month')['cac'].mean().round(2)\n",
    "total_cac.plot(kind= 'bar', figsize=(12, 5), grid=True)\n",
    "plt.title('График изменения САС во времени');"
   ]
  },
  {
   "cell_type": "code",
   "execution_count": 185,
   "metadata": {},
   "outputs": [
    {
     "data": {
      "image/png": "[encoded data removed]",
      "text/plain": [
       "<Figure size 864x504 with 1 Axes>"
      ]
     },
     "metadata": {
      "needs_background": "light"
     },
     "output_type": "display_data"
    }
   ],
   "source": [
    "total.pivot_table(index='first_visit_month', columns='source_id', values='cac', aggfunc='mean').plot(figsize=(12,7), grid=True)\n",
    "plt.title('График изменения САС во времени в разрезе рекламных источников');"
   ]
  },
  {
   "cell_type": "markdown",
   "metadata": {},
   "source": [
    "Вывод: Дороже всего привлечение одного пользователся стоило привлечь из 3 источника рекламы. Далее  идут 4 и 5 источник. Самый выгодный источник рекламы с точки зрения потраченых денег получился 9 источник ( если не считать органического трафика у источников 6 и 7, по которым нет затрат но мы знаем что небольшое количество пользователей из них пришли). В октябре 2017 года затраты на привлечение одного пользователя были самые большие за весб анализируемый период, в то время как в апреле 2018 года эти затраты были самыми минимальными."
   ]
  },
  {
   "cell_type": "markdown",
   "metadata": {},
   "source": [
    "На сколько окупились расходы? (ROI)"
   ]
  },
  {
   "cell_type": "markdown",
   "metadata": {},
   "source": [
    "Посчитаем окупаемость инвестиций "
   ]
  },
  {
   "cell_type": "code",
   "execution_count": 150,
   "metadata": {},
   "outputs": [],
   "source": [
    "total['romi'] = total['ltv'] / total['cac']"
   ]
  },
  {
   "cell_type": "code",
   "execution_count": 151,
   "metadata": {},
   "outputs": [
    {
     "data": {
      "text/html": [
       "<div>\n",
       "<style scoped>\n",
       "    .dataframe tbody tr th:only-of-type {\n",
       "        vertical-align: middle;\n",
       "    }\n",
       "\n",
       "    .dataframe tbody tr th {\n",
       "        vertical-align: top;\n",
       "    }\n",
       "\n",
       "    .dataframe thead th {\n",
       "        text-align: right;\n",
       "    }\n",
       "</style>\n",
       "<table border=\"1\" class=\"dataframe\">\n",
       "  <thead>\n",
       "    <tr style=\"text-align: right;\">\n",
       "      <th></th>\n",
       "      <th>first_visit_month</th>\n",
       "      <th>first_order_month</th>\n",
       "      <th>device</th>\n",
       "      <th>source_id</th>\n",
       "      <th>age</th>\n",
       "      <th>cohort_size</th>\n",
       "      <th>orders_count</th>\n",
       "      <th>uid_count</th>\n",
       "      <th>revenue</th>\n",
       "      <th>ltv</th>\n",
       "      <th>costs</th>\n",
       "      <th>cac</th>\n",
       "      <th>romi</th>\n",
       "    </tr>\n",
       "  </thead>\n",
       "  <tbody>\n",
       "    <tr>\n",
       "      <td>0</td>\n",
       "      <td>2017-06-01</td>\n",
       "      <td>2017-06-01</td>\n",
       "      <td>desktop</td>\n",
       "      <td>1</td>\n",
       "      <td>0</td>\n",
       "      <td>2923</td>\n",
       "      <td>18915</td>\n",
       "      <td>339</td>\n",
       "      <td>123226.86</td>\n",
       "      <td>42.16</td>\n",
       "      <td>75.20</td>\n",
       "      <td>0.221829</td>\n",
       "      <td>190.056383</td>\n",
       "    </tr>\n",
       "    <tr>\n",
       "      <td>1</td>\n",
       "      <td>2017-06-01</td>\n",
       "      <td>2017-06-01</td>\n",
       "      <td>desktop</td>\n",
       "      <td>1</td>\n",
       "      <td>0</td>\n",
       "      <td>2923</td>\n",
       "      <td>18915</td>\n",
       "      <td>339</td>\n",
       "      <td>123226.86</td>\n",
       "      <td>42.16</td>\n",
       "      <td>62.25</td>\n",
       "      <td>0.183628</td>\n",
       "      <td>229.594217</td>\n",
       "    </tr>\n",
       "    <tr>\n",
       "      <td>2</td>\n",
       "      <td>2017-06-01</td>\n",
       "      <td>2017-06-01</td>\n",
       "      <td>desktop</td>\n",
       "      <td>1</td>\n",
       "      <td>0</td>\n",
       "      <td>2923</td>\n",
       "      <td>18915</td>\n",
       "      <td>339</td>\n",
       "      <td>123226.86</td>\n",
       "      <td>42.16</td>\n",
       "      <td>36.53</td>\n",
       "      <td>0.107758</td>\n",
       "      <td>391.246647</td>\n",
       "    </tr>\n",
       "    <tr>\n",
       "      <td>3</td>\n",
       "      <td>2017-06-01</td>\n",
       "      <td>2017-06-01</td>\n",
       "      <td>desktop</td>\n",
       "      <td>1</td>\n",
       "      <td>0</td>\n",
       "      <td>2923</td>\n",
       "      <td>18915</td>\n",
       "      <td>339</td>\n",
       "      <td>123226.86</td>\n",
       "      <td>42.16</td>\n",
       "      <td>55.00</td>\n",
       "      <td>0.162242</td>\n",
       "      <td>259.858909</td>\n",
       "    </tr>\n",
       "    <tr>\n",
       "      <td>4</td>\n",
       "      <td>2017-06-01</td>\n",
       "      <td>2017-06-01</td>\n",
       "      <td>desktop</td>\n",
       "      <td>1</td>\n",
       "      <td>0</td>\n",
       "      <td>2923</td>\n",
       "      <td>18915</td>\n",
       "      <td>339</td>\n",
       "      <td>123226.86</td>\n",
       "      <td>42.16</td>\n",
       "      <td>57.08</td>\n",
       "      <td>0.168378</td>\n",
       "      <td>250.389629</td>\n",
       "    </tr>\n",
       "    <tr>\n",
       "      <td>...</td>\n",
       "      <td>...</td>\n",
       "      <td>...</td>\n",
       "      <td>...</td>\n",
       "      <td>...</td>\n",
       "      <td>...</td>\n",
       "      <td>...</td>\n",
       "      <td>...</td>\n",
       "      <td>...</td>\n",
       "      <td>...</td>\n",
       "      <td>...</td>\n",
       "      <td>...</td>\n",
       "      <td>...</td>\n",
       "      <td>...</td>\n",
       "    </tr>\n",
       "    <tr>\n",
       "      <td>92960</td>\n",
       "      <td>2018-05-01</td>\n",
       "      <td>2018-05-01</td>\n",
       "      <td>touch</td>\n",
       "      <td>10</td>\n",
       "      <td>0</td>\n",
       "      <td>2316</td>\n",
       "      <td>28</td>\n",
       "      <td>28</td>\n",
       "      <td>64.46</td>\n",
       "      <td>0.03</td>\n",
       "      <td>9.92</td>\n",
       "      <td>0.354286</td>\n",
       "      <td>0.084677</td>\n",
       "    </tr>\n",
       "    <tr>\n",
       "      <td>92961</td>\n",
       "      <td>2018-05-01</td>\n",
       "      <td>2018-05-01</td>\n",
       "      <td>touch</td>\n",
       "      <td>10</td>\n",
       "      <td>0</td>\n",
       "      <td>2316</td>\n",
       "      <td>28</td>\n",
       "      <td>28</td>\n",
       "      <td>64.46</td>\n",
       "      <td>0.03</td>\n",
       "      <td>21.26</td>\n",
       "      <td>0.759286</td>\n",
       "      <td>0.039511</td>\n",
       "    </tr>\n",
       "    <tr>\n",
       "      <td>92962</td>\n",
       "      <td>2018-05-01</td>\n",
       "      <td>2018-05-01</td>\n",
       "      <td>touch</td>\n",
       "      <td>10</td>\n",
       "      <td>0</td>\n",
       "      <td>2316</td>\n",
       "      <td>28</td>\n",
       "      <td>28</td>\n",
       "      <td>64.46</td>\n",
       "      <td>0.03</td>\n",
       "      <td>11.32</td>\n",
       "      <td>0.404286</td>\n",
       "      <td>0.074205</td>\n",
       "    </tr>\n",
       "    <tr>\n",
       "      <td>92963</td>\n",
       "      <td>2018-05-01</td>\n",
       "      <td>2018-05-01</td>\n",
       "      <td>touch</td>\n",
       "      <td>10</td>\n",
       "      <td>0</td>\n",
       "      <td>2316</td>\n",
       "      <td>28</td>\n",
       "      <td>28</td>\n",
       "      <td>64.46</td>\n",
       "      <td>0.03</td>\n",
       "      <td>33.15</td>\n",
       "      <td>1.183929</td>\n",
       "      <td>0.025339</td>\n",
       "    </tr>\n",
       "    <tr>\n",
       "      <td>92964</td>\n",
       "      <td>2018-05-01</td>\n",
       "      <td>2018-05-01</td>\n",
       "      <td>touch</td>\n",
       "      <td>10</td>\n",
       "      <td>0</td>\n",
       "      <td>2316</td>\n",
       "      <td>28</td>\n",
       "      <td>28</td>\n",
       "      <td>64.46</td>\n",
       "      <td>0.03</td>\n",
       "      <td>17.60</td>\n",
       "      <td>0.628571</td>\n",
       "      <td>0.047727</td>\n",
       "    </tr>\n",
       "  </tbody>\n",
       "</table>\n",
       "<p>92965 rows × 13 columns</p>\n",
       "</div>"
      ],
      "text/plain": [
       "      first_visit_month first_order_month   device  source_id  age  \\\n",
       "0            2017-06-01        2017-06-01  desktop          1    0   \n",
       "1            2017-06-01        2017-06-01  desktop          1    0   \n",
       "2            2017-06-01        2017-06-01  desktop          1    0   \n",
       "3            2017-06-01        2017-06-01  desktop          1    0   \n",
       "4            2017-06-01        2017-06-01  desktop          1    0   \n",
       "...                 ...               ...      ...        ...  ...   \n",
       "92960        2018-05-01        2018-05-01    touch         10    0   \n",
       "92961        2018-05-01        2018-05-01    touch         10    0   \n",
       "92962        2018-05-01        2018-05-01    touch         10    0   \n",
       "92963        2018-05-01        2018-05-01    touch         10    0   \n",
       "92964        2018-05-01        2018-05-01    touch         10    0   \n",
       "\n",
       "       cohort_size  orders_count  uid_count    revenue    ltv  costs  \\\n",
       "0             2923         18915        339  123226.86  42.16  75.20   \n",
       "1             2923         18915        339  123226.86  42.16  62.25   \n",
       "2             2923         18915        339  123226.86  42.16  36.53   \n",
       "3             2923         18915        339  123226.86  42.16  55.00   \n",
       "4             2923         18915        339  123226.86  42.16  57.08   \n",
       "...            ...           ...        ...        ...    ...    ...   \n",
       "92960         2316            28         28      64.46   0.03   9.92   \n",
       "92961         2316            28         28      64.46   0.03  21.26   \n",
       "92962         2316            28         28      64.46   0.03  11.32   \n",
       "92963         2316            28         28      64.46   0.03  33.15   \n",
       "92964         2316            28         28      64.46   0.03  17.60   \n",
       "\n",
       "            cac        romi  \n",
       "0      0.221829  190.056383  \n",
       "1      0.183628  229.594217  \n",
       "2      0.107758  391.246647  \n",
       "3      0.162242  259.858909  \n",
       "4      0.168378  250.389629  \n",
       "...         ...         ...  \n",
       "92960  0.354286    0.084677  \n",
       "92961  0.759286    0.039511  \n",
       "92962  0.404286    0.074205  \n",
       "92963  1.183929    0.025339  \n",
       "92964  0.628571    0.047727  \n",
       "\n",
       "[92965 rows x 13 columns]"
      ]
     },
     "execution_count": 151,
     "metadata": {},
     "output_type": "execute_result"
    }
   ],
   "source": [
    "total"
   ]
  },
  {
   "cell_type": "code",
   "execution_count": 152,
   "metadata": {},
   "outputs": [
    {
     "data": {
      "text/html": [
       "<div>\n",
       "<style scoped>\n",
       "    .dataframe tbody tr th:only-of-type {\n",
       "        vertical-align: middle;\n",
       "    }\n",
       "\n",
       "    .dataframe tbody tr th {\n",
       "        vertical-align: top;\n",
       "    }\n",
       "\n",
       "    .dataframe thead th {\n",
       "        text-align: right;\n",
       "    }\n",
       "</style>\n",
       "<table border=\"1\" class=\"dataframe\">\n",
       "  <thead>\n",
       "    <tr style=\"text-align: right;\">\n",
       "      <th>first_order_month</th>\n",
       "      <th>2017-06-01</th>\n",
       "      <th>2017-07-01</th>\n",
       "      <th>2017-08-01</th>\n",
       "      <th>2017-09-01</th>\n",
       "      <th>2017-10-01</th>\n",
       "      <th>2017-11-01</th>\n",
       "      <th>2017-12-01</th>\n",
       "      <th>2018-01-01</th>\n",
       "      <th>2018-02-01</th>\n",
       "      <th>2018-03-01</th>\n",
       "      <th>2018-04-01</th>\n",
       "      <th>2018-05-01</th>\n",
       "      <th>2018-06-01</th>\n",
       "    </tr>\n",
       "    <tr>\n",
       "      <th>source_id</th>\n",
       "      <th></th>\n",
       "      <th></th>\n",
       "      <th></th>\n",
       "      <th></th>\n",
       "      <th></th>\n",
       "      <th></th>\n",
       "      <th></th>\n",
       "      <th></th>\n",
       "      <th></th>\n",
       "      <th></th>\n",
       "      <th></th>\n",
       "      <th></th>\n",
       "      <th></th>\n",
       "    </tr>\n",
       "  </thead>\n",
       "  <tbody>\n",
       "    <tr>\n",
       "      <td>1</td>\n",
       "      <td>41.0</td>\n",
       "      <td>42.6</td>\n",
       "      <td>44.1</td>\n",
       "      <td>45.6</td>\n",
       "      <td>46.1</td>\n",
       "      <td>47.1</td>\n",
       "      <td>47.3</td>\n",
       "      <td>47.7</td>\n",
       "      <td>48.6</td>\n",
       "      <td>49.2</td>\n",
       "      <td>54.1</td>\n",
       "      <td>54.4</td>\n",
       "      <td>NaN</td>\n",
       "    </tr>\n",
       "    <tr>\n",
       "      <td>2</td>\n",
       "      <td>15.5</td>\n",
       "      <td>16.0</td>\n",
       "      <td>16.2</td>\n",
       "      <td>21.0</td>\n",
       "      <td>21.2</td>\n",
       "      <td>21.7</td>\n",
       "      <td>22.1</td>\n",
       "      <td>22.2</td>\n",
       "      <td>22.4</td>\n",
       "      <td>22.8</td>\n",
       "      <td>23.6</td>\n",
       "      <td>23.9</td>\n",
       "      <td>NaN</td>\n",
       "    </tr>\n",
       "    <tr>\n",
       "      <td>3</td>\n",
       "      <td>0.9</td>\n",
       "      <td>1.0</td>\n",
       "      <td>1.1</td>\n",
       "      <td>1.3</td>\n",
       "      <td>1.4</td>\n",
       "      <td>1.5</td>\n",
       "      <td>1.6</td>\n",
       "      <td>1.6</td>\n",
       "      <td>1.7</td>\n",
       "      <td>1.8</td>\n",
       "      <td>2.0</td>\n",
       "      <td>2.1</td>\n",
       "      <td>NaN</td>\n",
       "    </tr>\n",
       "    <tr>\n",
       "      <td>4</td>\n",
       "      <td>6.6</td>\n",
       "      <td>7.5</td>\n",
       "      <td>8.4</td>\n",
       "      <td>9.2</td>\n",
       "      <td>10.5</td>\n",
       "      <td>11.9</td>\n",
       "      <td>12.2</td>\n",
       "      <td>12.7</td>\n",
       "      <td>13.6</td>\n",
       "      <td>15.2</td>\n",
       "      <td>16.3</td>\n",
       "      <td>17.3</td>\n",
       "      <td>17.3</td>\n",
       "    </tr>\n",
       "    <tr>\n",
       "      <td>5</td>\n",
       "      <td>9.2</td>\n",
       "      <td>9.6</td>\n",
       "      <td>10.2</td>\n",
       "      <td>11.7</td>\n",
       "      <td>11.9</td>\n",
       "      <td>12.1</td>\n",
       "      <td>12.3</td>\n",
       "      <td>12.5</td>\n",
       "      <td>12.7</td>\n",
       "      <td>14.2</td>\n",
       "      <td>14.8</td>\n",
       "      <td>15.0</td>\n",
       "      <td>NaN</td>\n",
       "    </tr>\n",
       "    <tr>\n",
       "      <td>9</td>\n",
       "      <td>0.5</td>\n",
       "      <td>0.7</td>\n",
       "      <td>0.9</td>\n",
       "      <td>1.1</td>\n",
       "      <td>1.2</td>\n",
       "      <td>1.4</td>\n",
       "      <td>1.5</td>\n",
       "      <td>1.5</td>\n",
       "      <td>1.5</td>\n",
       "      <td>1.6</td>\n",
       "      <td>1.6</td>\n",
       "      <td>1.6</td>\n",
       "      <td>NaN</td>\n",
       "    </tr>\n",
       "    <tr>\n",
       "      <td>10</td>\n",
       "      <td>0.2</td>\n",
       "      <td>0.3</td>\n",
       "      <td>0.4</td>\n",
       "      <td>0.4</td>\n",
       "      <td>0.5</td>\n",
       "      <td>0.5</td>\n",
       "      <td>0.5</td>\n",
       "      <td>0.5</td>\n",
       "      <td>0.5</td>\n",
       "      <td>0.7</td>\n",
       "      <td>0.8</td>\n",
       "      <td>0.9</td>\n",
       "      <td>NaN</td>\n",
       "    </tr>\n",
       "  </tbody>\n",
       "</table>\n",
       "</div>"
      ],
      "text/plain": [
       "first_order_month  2017-06-01  2017-07-01  2017-08-01  2017-09-01  2017-10-01  \\\n",
       "source_id                                                                       \n",
       "1                        41.0        42.6        44.1        45.6        46.1   \n",
       "2                        15.5        16.0        16.2        21.0        21.2   \n",
       "3                         0.9         1.0         1.1         1.3         1.4   \n",
       "4                         6.6         7.5         8.4         9.2        10.5   \n",
       "5                         9.2         9.6        10.2        11.7        11.9   \n",
       "9                         0.5         0.7         0.9         1.1         1.2   \n",
       "10                        0.2         0.3         0.4         0.4         0.5   \n",
       "\n",
       "first_order_month  2017-11-01  2017-12-01  2018-01-01  2018-02-01  2018-03-01  \\\n",
       "source_id                                                                       \n",
       "1                        47.1        47.3        47.7        48.6        49.2   \n",
       "2                        21.7        22.1        22.2        22.4        22.8   \n",
       "3                         1.5         1.6         1.6         1.7         1.8   \n",
       "4                        11.9        12.2        12.7        13.6        15.2   \n",
       "5                        12.1        12.3        12.5        12.7        14.2   \n",
       "9                         1.4         1.5         1.5         1.5         1.6   \n",
       "10                        0.5         0.5         0.5         0.5         0.7   \n",
       "\n",
       "first_order_month  2018-04-01  2018-05-01  2018-06-01  \n",
       "source_id                                              \n",
       "1                        54.1        54.4         NaN  \n",
       "2                        23.6        23.9         NaN  \n",
       "3                         2.0         2.1         NaN  \n",
       "4                        16.3        17.3        17.3  \n",
       "5                        14.8        15.0         NaN  \n",
       "9                         1.6         1.6         NaN  \n",
       "10                        0.8         0.9         NaN  "
      ]
     },
     "execution_count": 152,
     "metadata": {},
     "output_type": "execute_result"
    }
   ],
   "source": [
    "romi_total =total.pivot_table(\n",
    "        index='source_id', \n",
    "        columns='first_order_month',\n",
    "        values='romi', \n",
    "        aggfunc='mean').round(1)\n",
    "\n",
    "romi_total.cumsum(axis=1).round(1)\n"
   ]
  },
  {
   "cell_type": "markdown",
   "metadata": {},
   "source": [
    "Вывод: Практически все источники трафика начинаю окупаться уже с первого месяца.Исключение составляют источники 3,9 и 10. Самый действенный источник рекламы номер 1, за ним с большим отрывом идут все остальные. Хуже всех показатели у источников номер 9, 10 и 3. "
   ]
  },
  {
   "cell_type": "markdown",
   "metadata": {},
   "source": [
    "Общий вывод: \n",
    "\n",
    "Маркетологам следует обратить внимание на компьютерную версию сайта, так как эта версия более популярна у пользователей, так же в среднем люди проводят больше времени на сайте именно с компьютера. Так же внимание стоит обратить на то, как удержать пользователя после первого месяца использования приложения, так как мы видим, что первые покупки и самый большой средний чек происходит в основном в первом месяце.\n",
    "cac выше всего у источников 3-4-5\n",
    "Больше всего затрат  так же у этих же номеров 3-4-5. Возврат инвестиций присутствует у всех источников, но более быстро происходит у номеров 1,2, 4 и 5.\n",
    "Источник 1, 2 могут быть рекоммендованы как потенциально перспективные каналы продаж в совокупностью с удобным сайтом  "
   ]
  }
 ],
 "metadata": {
  "kernelspec": {
   "display_name": "Python 3",
   "language": "python",
   "name": "python3"
  },
  "language_info": {
   "codemirror_mode": {
    "name": "ipython",
    "version": 3
   },
   "file_extension": ".py",
   "mimetype": "text/x-python",
   "name": "python",
   "nbconvert_exporter": "python",
   "pygments_lexer": "ipython3",
   "version": "3.7.6"
  }
 },
 "nbformat": 4,
 "nbformat_minor": 4
}
